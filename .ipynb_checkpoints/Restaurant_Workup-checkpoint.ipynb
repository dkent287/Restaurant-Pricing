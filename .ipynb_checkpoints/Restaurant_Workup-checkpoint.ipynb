{
 "cells": [
  {
   "cell_type": "markdown",
   "id": "33ef1357",
   "metadata": {},
   "source": [
    "# Importing Libraries, Setting Helper Fucnctions and Reading in Data"
   ]
  },
  {
   "cell_type": "code",
   "execution_count": 1,
   "id": "64896e82",
   "metadata": {},
   "outputs": [],
   "source": [
    "%matplotlib inline\n",
    "import numpy as np\n",
    "import pandas as pd\n",
    "import matplotlib.pyplot as plt\n",
    "import matplotlib as mpl\n",
    "import seaborn as sn\n",
    "\n",
    "import math\n",
    "import os\n",
    "import statistics\n",
    "import scipy.stats as stats\n",
    "from scipy.stats import chi2_contingency\n",
    "from scipy.stats import anderson\n",
    "\n",
    "from sklearn import preprocessing\n",
    "from sklearn.preprocessing import OneHotEncoder\n",
    "from sklearn.preprocessing import OrdinalEncoder\n",
    "from sklearn.preprocessing import StandardScaler\n",
    "\n",
    "from sklearn.model_selection import GridSearchCV\n",
    "from sklearn import svm\n",
    "from sklearn.ensemble import RandomForestClassifier\n",
    "from sklearn.linear_model import LogisticRegression\n",
    "from sklearn.metrics import recall_score\n",
    "from sklearn.metrics import make_scorer\n",
    "\n",
    "\n",
    "# an initial clean-up function\n",
    "def clean_up(df,ds='rawdata1'):\n",
    "    df[\"YEAR\"] = df[\"YEAR\"].astype('str')\n",
    "    df[\"MONTH\"] = df[\"MONTH\"].astype('str')\n",
    "    df[\"DATE\"] = df[\"MONTH\"] + '-' + df[\"YEAR\"]\n",
    "    df[\"DATE\"] =  pd.to_datetime(df[\"DATE\"], format=\"%m-%Y\")\n",
    "    df['half year'] = np.where(df['DATE'].dt.month.le(6), 'H1', 'H2')\n",
    "    col = df['half year'] + '-' + df[\"YEAR\"]\n",
    "    \n",
    "    if ds == 'rawdata1':\n",
    "        df[\"CATEGORY_ID\"] = df[\"CATEGORY_ID\"].astype('str')\n",
    "        df.insert(1,'HALF YEAR',col)\n",
    "    else:\n",
    "        df.insert(0,'HALF YEAR',col)\n",
    "        \n",
    "    df = df.drop(['YEAR','MONTH','half year'], axis=1)\n",
    "    df = df.set_index('DATE')\n",
    "    \n",
    "    df[\"STORE\"] = df[\"STORE\"].astype('int')\n",
    "    df[\"DAYPART\"] = df[\"DAYPART\"].astype('str')\n",
    "    \n",
    "    return df\n",
    "\n",
    "\n",
    "# a function to produce pivot tables\n",
    "def piv_fun(rawdata_1,rawdata_2, piv_type='store'):\n",
    "    \n",
    "    daypart_list = ['B','L','D']\n",
    "    category_list = ['10','15','20','25','30','40','45','50','55','60','99']\n",
    "    helper_list = ['B','L','D','store']\n",
    "\n",
    "    if piv_type=='store':\n",
    "        rawdata_1_filt = rawdata_1\n",
    "        rawdata_2_filt = rawdata_2\n",
    "    elif piv_type in daypart_list:\n",
    "        rawdata_1_filt = rawdata_1[rawdata_1['DAYPART']==piv_type]\n",
    "        rawdata_2_filt = rawdata_2[rawdata_2['DAYPART']==piv_type]\n",
    "    else:\n",
    "        rawdata_1_filt = rawdata_1[rawdata_1['CATEGORY_ID']==piv_type]\n",
    "  \n",
    "    # revenue pivot\n",
    "    rawdata_1_filt_rev = pd.pivot_table(rawdata_1_filt, values='REVENUE_NET', index=['DATE'],\n",
    "                       columns=['STORE'], aggfunc=\"sum\")\n",
    "    rawdata_1_filt_rev.columns.name = None\n",
    "    rawdata_1_filt_rev['Str Smpl Total']= rawdata_1_filt_rev.iloc[:,:].sum(axis=1)\n",
    "    rawdata_1_filt_rev['Columbus_Region']= rawdata_1_filt_rev.iloc[:,2:4].sum(axis=1)\n",
    "\n",
    "    # quantity pivot\n",
    "    rawdata_1_filt_quan = pd.pivot_table(rawdata_1_filt, values='QTY', index=['DATE'],\n",
    "                       columns=['STORE'], aggfunc=\"sum\")\n",
    "    rawdata_1_filt_quan.columns.name = None\n",
    "    rawdata_1_filt_quan['Str Smpl Total']= rawdata_1_filt_quan.iloc[:,:].sum(axis=1)\n",
    "    rawdata_1_filt_quan['Columbus_Region']= rawdata_1_filt_quan.iloc[:,2:4].sum(axis=1)\n",
    "    \n",
    "    # customer count pivot\n",
    "    if piv_type in helper_list:\n",
    "        rawdata_2_custcnt = pd.pivot_table(rawdata_2_filt, values='CUSTOMER_COUNT', index=['DATE'],\n",
    "                           columns=['STORE'], aggfunc=\"sum\")\n",
    "        rawdata_2_custcnt.columns.name = None\n",
    "        rawdata_2_custcnt['Str Smpl Total']= rawdata_2_custcnt.iloc[:,:].sum(axis=1)\n",
    "        rawdata_2_custcnt['Columbus_Region']= rawdata_2_custcnt.iloc[:,2:4].sum(axis=1)\n",
    "\n",
    "    else:\n",
    "        rawdata_2_custcnt = None\n",
    "    \n",
    "    return rawdata_1_filt_rev,rawdata_1_filt_quan,rawdata_2_custcnt\n",
    "\n",
    "    \n",
    "def plot_fun2(df,i,store,ax):\n",
    "    \n",
    "    if i==0:\n",
    "        ax.plot(df[store])\n",
    "        ax.set_ylim(bottom = 0)\n",
    "        ax.set_title('Total Revenues')\n",
    "        ax.tick_params(axis='x', rotation=45)\n",
    "\n",
    "    if i==1:\n",
    "        ax.plot(df[store])\n",
    "        ax.set_ylim(bottom = 0)\n",
    "        ax.set_title('Total Quantity')\n",
    "        ax.tick_params(axis='x', rotation=45)\n",
    "        \n",
    "    if i+1==3:\n",
    "        ax.plot(df[store])\n",
    "        ax.set_title('Average Prices')\n",
    "        ax.tick_params(axis='x', rotation=45)            \n",
    "        \n",
    "\n",
    "# Settings\n",
    "pd.set_option('display.max_columns', 50)\n",
    "os.chdir('C:/Users/darre/Documents/Restaurant-Pricing')"
   ]
  },
  {
   "cell_type": "code",
   "execution_count": 2,
   "id": "36673c86",
   "metadata": {},
   "outputs": [],
   "source": [
    "def plot_fun1(df,store,ax,**kwargs):\n",
    "    \n",
    "    # creating dictionaries to help with subplot titles\n",
    "    dict_daypart = {0: 'Breakfast',\n",
    "        1: 'Lunch',\n",
    "        2: 'Dinner'}\n",
    "    \n",
    "    dict_category = {0: 'BREAKFAST',\n",
    "        1: 'SENIORS MEALS',\n",
    "        2: 'DINNER',\n",
    "        3: 'DINNER ALA',\n",
    "        4: 'LUNCH',\n",
    "        5: 'SOUP SALAD',\n",
    "        6: 'KIDS',\n",
    "        7: 'BEVERAGE',\n",
    "        8: 'DESSERTS',\n",
    "        9: 'BRKFST ALA',\n",
    "       }\n",
    "    \n",
    "    # plotting Revenue\n",
    "    ax.plot(df[0][store],label = 'Net Revenue ($)')\n",
    "    ax.set_ylim(bottom = 0)\n",
    "\n",
    "    # plotting Quantity\n",
    "    ax.plot(df[1][store],label = 'Quantity (units)')\n",
    "\n",
    "    # plotting Customer Counts\n",
    "    ax.plot(df[2][store],label = 'Customer Count (units)')\n",
    "    \n",
    "    ax.tick_params(axis='x', rotation=45)\n",
    "    \n",
    "    # plotting Average Price / Unit\n",
    "    ax2 = ax.twinx()  # instantiate a second axes that shares the same x-axis\n",
    "    color='tab:red'\n",
    "    ax2.plot(df[3][store],color=color,linestyle = '--',label='Average Price / Unit ($)')\n",
    "    ax2.tick_params(axis='y', labelcolor=color)\n",
    "    ax2.set_ylim(bottom = 0)\n",
    "\n",
    "    # attending subplot titles\n",
    "    if kwargs.get('type')=='dp':\n",
    "        i = kwargs.get('plot_num')\n",
    "        title = dict_daypart.get(i)\n",
    "        ax.set_title(title,loc='left')\n",
    "    if kwargs.get('type')=='cat':\n",
    "        i = kwargs.get('plot_num')\n",
    "        title = dict_category.get(i)\n",
    "        ax.set_title(title)    \n",
    "    \n",
    "    # attending legend\n",
    "    if kwargs.get('type')=='dp':  \n",
    "        ax.legend(bbox_to_anchor=(1.43,0.9),\n",
    "          frameon=True)\n",
    "        ax2.legend(bbox_to_anchor=(1.43,0.4),\n",
    "              frameon=True)\n",
    "    elif kwargs.get('type')=='cat':\n",
    "        pass\n",
    "    else:\n",
    "        ax.legend(bbox_to_anchor=(1.52,0.9),\n",
    "          frameon=True)\n",
    "        ax2.legend(bbox_to_anchor=(1.52,0.6),\n",
    "          frameon=True)"
   ]
  },
  {
   "cell_type": "code",
   "execution_count": 3,
   "id": "2df45268",
   "metadata": {},
   "outputs": [],
   "source": [
    "rawdata1 = pd.read_csv('RAWDATA1.csv')\n",
    "rawdata2 = pd.read_csv('RAWDATA2.csv')\n",
    "rawdata3 = pd.read_csv('RAWDATA3.csv')\n",
    "rawdata4 = pd.read_csv('RAWDATA4.csv')"
   ]
  },
  {
   "cell_type": "markdown",
   "id": "f688c00a",
   "metadata": {},
   "source": [
    "# Clean-Up on Data"
   ]
  },
  {
   "cell_type": "markdown",
   "id": "a2b73af2",
   "metadata": {},
   "source": [
    "## RawDate1"
   ]
  },
  {
   "cell_type": "code",
   "execution_count": 4,
   "id": "888531a9",
   "metadata": {},
   "outputs": [
    {
     "data": {
      "text/html": [
       "<div>\n",
       "<style scoped>\n",
       "    .dataframe tbody tr th:only-of-type {\n",
       "        vertical-align: middle;\n",
       "    }\n",
       "\n",
       "    .dataframe tbody tr th {\n",
       "        vertical-align: top;\n",
       "    }\n",
       "\n",
       "    .dataframe thead th {\n",
       "        text-align: right;\n",
       "    }\n",
       "</style>\n",
       "<table border=\"1\" class=\"dataframe\">\n",
       "  <thead>\n",
       "    <tr style=\"text-align: right;\">\n",
       "      <th></th>\n",
       "      <th>YEAR</th>\n",
       "      <th>MONTH</th>\n",
       "      <th>STORE</th>\n",
       "      <th>DAYPART</th>\n",
       "      <th>CATEGORY_ID</th>\n",
       "      <th>REVENUE_NET</th>\n",
       "      <th>QTY</th>\n",
       "    </tr>\n",
       "  </thead>\n",
       "  <tbody>\n",
       "    <tr>\n",
       "      <th>0</th>\n",
       "      <td>2018</td>\n",
       "      <td>1</td>\n",
       "      <td>1</td>\n",
       "      <td>B</td>\n",
       "      <td>10</td>\n",
       "      <td>11700</td>\n",
       "      <td>2050</td>\n",
       "    </tr>\n",
       "    <tr>\n",
       "      <th>1</th>\n",
       "      <td>2018</td>\n",
       "      <td>1</td>\n",
       "      <td>1</td>\n",
       "      <td>D</td>\n",
       "      <td>10</td>\n",
       "      <td>3700</td>\n",
       "      <td>570</td>\n",
       "    </tr>\n",
       "    <tr>\n",
       "      <th>2</th>\n",
       "      <td>2018</td>\n",
       "      <td>1</td>\n",
       "      <td>1</td>\n",
       "      <td>L</td>\n",
       "      <td>10</td>\n",
       "      <td>7700</td>\n",
       "      <td>1270</td>\n",
       "    </tr>\n",
       "  </tbody>\n",
       "</table>\n",
       "</div>"
      ],
      "text/plain": [
       "   YEAR  MONTH  STORE DAYPART  CATEGORY_ID  REVENUE_NET   QTY\n",
       "0  2018      1      1       B           10        11700  2050\n",
       "1  2018      1      1       D           10         3700   570\n",
       "2  2018      1      1       L           10         7700  1270"
      ]
     },
     "execution_count": 4,
     "metadata": {},
     "output_type": "execute_result"
    }
   ],
   "source": [
    "rawdata1.head(3)"
   ]
  },
  {
   "cell_type": "code",
   "execution_count": 5,
   "id": "e4afe73c",
   "metadata": {},
   "outputs": [
    {
     "data": {
      "text/html": [
       "<div>\n",
       "<style scoped>\n",
       "    .dataframe tbody tr th:only-of-type {\n",
       "        vertical-align: middle;\n",
       "    }\n",
       "\n",
       "    .dataframe tbody tr th {\n",
       "        vertical-align: top;\n",
       "    }\n",
       "\n",
       "    .dataframe thead th {\n",
       "        text-align: right;\n",
       "    }\n",
       "</style>\n",
       "<table border=\"1\" class=\"dataframe\">\n",
       "  <thead>\n",
       "    <tr style=\"text-align: right;\">\n",
       "      <th></th>\n",
       "      <th>HALF YEAR</th>\n",
       "      <th>STORE</th>\n",
       "      <th>DAYPART</th>\n",
       "      <th>CATEGORY_ID</th>\n",
       "      <th>REVENUE_NET</th>\n",
       "      <th>QTY</th>\n",
       "    </tr>\n",
       "    <tr>\n",
       "      <th>DATE</th>\n",
       "      <th></th>\n",
       "      <th></th>\n",
       "      <th></th>\n",
       "      <th></th>\n",
       "      <th></th>\n",
       "      <th></th>\n",
       "    </tr>\n",
       "  </thead>\n",
       "  <tbody>\n",
       "    <tr>\n",
       "      <th>2018-01-01</th>\n",
       "      <td>H1-2018</td>\n",
       "      <td>1</td>\n",
       "      <td>B</td>\n",
       "      <td>10</td>\n",
       "      <td>11700</td>\n",
       "      <td>2050</td>\n",
       "    </tr>\n",
       "    <tr>\n",
       "      <th>2018-01-01</th>\n",
       "      <td>H1-2018</td>\n",
       "      <td>1</td>\n",
       "      <td>D</td>\n",
       "      <td>10</td>\n",
       "      <td>3700</td>\n",
       "      <td>570</td>\n",
       "    </tr>\n",
       "    <tr>\n",
       "      <th>2018-01-01</th>\n",
       "      <td>H1-2018</td>\n",
       "      <td>1</td>\n",
       "      <td>L</td>\n",
       "      <td>10</td>\n",
       "      <td>7700</td>\n",
       "      <td>1270</td>\n",
       "    </tr>\n",
       "  </tbody>\n",
       "</table>\n",
       "</div>"
      ],
      "text/plain": [
       "           HALF YEAR  STORE DAYPART CATEGORY_ID  REVENUE_NET   QTY\n",
       "DATE                                                              \n",
       "2018-01-01   H1-2018      1       B          10        11700  2050\n",
       "2018-01-01   H1-2018      1       D          10         3700   570\n",
       "2018-01-01   H1-2018      1       L          10         7700  1270"
      ]
     },
     "execution_count": 5,
     "metadata": {},
     "output_type": "execute_result"
    }
   ],
   "source": [
    "rawdata1 = clean_up(rawdata1,ds='rawdata1')\n",
    "rawdata1.head(3)"
   ]
  },
  {
   "cell_type": "code",
   "execution_count": 6,
   "id": "2433fbc7",
   "metadata": {},
   "outputs": [
    {
     "data": {
      "text/html": [
       "<div>\n",
       "<style scoped>\n",
       "    .dataframe tbody tr th:only-of-type {\n",
       "        vertical-align: middle;\n",
       "    }\n",
       "\n",
       "    .dataframe tbody tr th {\n",
       "        vertical-align: top;\n",
       "    }\n",
       "\n",
       "    .dataframe thead th {\n",
       "        text-align: right;\n",
       "    }\n",
       "</style>\n",
       "<table border=\"1\" class=\"dataframe\">\n",
       "  <thead>\n",
       "    <tr style=\"text-align: right;\">\n",
       "      <th></th>\n",
       "      <th>HALF YEAR</th>\n",
       "      <th>STORE</th>\n",
       "      <th>DAYPART</th>\n",
       "      <th>CATEGORY_ID</th>\n",
       "      <th>REVENUE_NET</th>\n",
       "      <th>QTY</th>\n",
       "      <th>Avg_Price</th>\n",
       "    </tr>\n",
       "    <tr>\n",
       "      <th>DATE</th>\n",
       "      <th></th>\n",
       "      <th></th>\n",
       "      <th></th>\n",
       "      <th></th>\n",
       "      <th></th>\n",
       "      <th></th>\n",
       "      <th></th>\n",
       "    </tr>\n",
       "  </thead>\n",
       "  <tbody>\n",
       "    <tr>\n",
       "      <th>2018-01-01</th>\n",
       "      <td>H1-2018</td>\n",
       "      <td>1</td>\n",
       "      <td>B</td>\n",
       "      <td>10</td>\n",
       "      <td>11700</td>\n",
       "      <td>2050</td>\n",
       "      <td>5.71</td>\n",
       "    </tr>\n",
       "    <tr>\n",
       "      <th>2018-01-01</th>\n",
       "      <td>H1-2018</td>\n",
       "      <td>1</td>\n",
       "      <td>D</td>\n",
       "      <td>10</td>\n",
       "      <td>3700</td>\n",
       "      <td>570</td>\n",
       "      <td>6.49</td>\n",
       "    </tr>\n",
       "    <tr>\n",
       "      <th>2018-01-01</th>\n",
       "      <td>H1-2018</td>\n",
       "      <td>1</td>\n",
       "      <td>L</td>\n",
       "      <td>10</td>\n",
       "      <td>7700</td>\n",
       "      <td>1270</td>\n",
       "      <td>6.06</td>\n",
       "    </tr>\n",
       "  </tbody>\n",
       "</table>\n",
       "</div>"
      ],
      "text/plain": [
       "           HALF YEAR  STORE DAYPART CATEGORY_ID  REVENUE_NET   QTY  Avg_Price\n",
       "DATE                                                                         \n",
       "2018-01-01   H1-2018      1       B          10        11700  2050       5.71\n",
       "2018-01-01   H1-2018      1       D          10         3700   570       6.49\n",
       "2018-01-01   H1-2018      1       L          10         7700  1270       6.06"
      ]
     },
     "execution_count": 6,
     "metadata": {},
     "output_type": "execute_result"
    }
   ],
   "source": [
    "rawdata1['Avg_Price'] = round(rawdata1['REVENUE_NET'] / rawdata1['QTY'],2)\n",
    "rawdata1.head(3)"
   ]
  },
  {
   "cell_type": "markdown",
   "id": "0e6fa893",
   "metadata": {},
   "source": [
    "## RawDate2"
   ]
  },
  {
   "cell_type": "code",
   "execution_count": 7,
   "id": "6519d97f",
   "metadata": {},
   "outputs": [
    {
     "data": {
      "text/html": [
       "<div>\n",
       "<style scoped>\n",
       "    .dataframe tbody tr th:only-of-type {\n",
       "        vertical-align: middle;\n",
       "    }\n",
       "\n",
       "    .dataframe tbody tr th {\n",
       "        vertical-align: top;\n",
       "    }\n",
       "\n",
       "    .dataframe thead th {\n",
       "        text-align: right;\n",
       "    }\n",
       "</style>\n",
       "<table border=\"1\" class=\"dataframe\">\n",
       "  <thead>\n",
       "    <tr style=\"text-align: right;\">\n",
       "      <th></th>\n",
       "      <th>STORE</th>\n",
       "      <th>DAYPART</th>\n",
       "      <th>YEAR</th>\n",
       "      <th>MONTH</th>\n",
       "      <th>CUSTOMER_COUNT</th>\n",
       "    </tr>\n",
       "  </thead>\n",
       "  <tbody>\n",
       "    <tr>\n",
       "      <th>0</th>\n",
       "      <td>1</td>\n",
       "      <td>B</td>\n",
       "      <td>2018</td>\n",
       "      <td>1</td>\n",
       "      <td>3312</td>\n",
       "    </tr>\n",
       "    <tr>\n",
       "      <th>1</th>\n",
       "      <td>1</td>\n",
       "      <td>B</td>\n",
       "      <td>2018</td>\n",
       "      <td>2</td>\n",
       "      <td>3366</td>\n",
       "    </tr>\n",
       "    <tr>\n",
       "      <th>2</th>\n",
       "      <td>1</td>\n",
       "      <td>B</td>\n",
       "      <td>2018</td>\n",
       "      <td>3</td>\n",
       "      <td>4116</td>\n",
       "    </tr>\n",
       "  </tbody>\n",
       "</table>\n",
       "</div>"
      ],
      "text/plain": [
       "   STORE DAYPART  YEAR  MONTH  CUSTOMER_COUNT\n",
       "0      1       B  2018      1            3312\n",
       "1      1       B  2018      2            3366\n",
       "2      1       B  2018      3            4116"
      ]
     },
     "execution_count": 7,
     "metadata": {},
     "output_type": "execute_result"
    }
   ],
   "source": [
    "rawdata2.head(3)"
   ]
  },
  {
   "cell_type": "code",
   "execution_count": 8,
   "id": "f16a96f5",
   "metadata": {},
   "outputs": [
    {
     "data": {
      "text/html": [
       "<div>\n",
       "<style scoped>\n",
       "    .dataframe tbody tr th:only-of-type {\n",
       "        vertical-align: middle;\n",
       "    }\n",
       "\n",
       "    .dataframe tbody tr th {\n",
       "        vertical-align: top;\n",
       "    }\n",
       "\n",
       "    .dataframe thead th {\n",
       "        text-align: right;\n",
       "    }\n",
       "</style>\n",
       "<table border=\"1\" class=\"dataframe\">\n",
       "  <thead>\n",
       "    <tr style=\"text-align: right;\">\n",
       "      <th></th>\n",
       "      <th>HALF YEAR</th>\n",
       "      <th>STORE</th>\n",
       "      <th>DAYPART</th>\n",
       "      <th>CUSTOMER_COUNT</th>\n",
       "    </tr>\n",
       "    <tr>\n",
       "      <th>DATE</th>\n",
       "      <th></th>\n",
       "      <th></th>\n",
       "      <th></th>\n",
       "      <th></th>\n",
       "    </tr>\n",
       "  </thead>\n",
       "  <tbody>\n",
       "    <tr>\n",
       "      <th>2018-01-01</th>\n",
       "      <td>H1-2018</td>\n",
       "      <td>1</td>\n",
       "      <td>B</td>\n",
       "      <td>3312</td>\n",
       "    </tr>\n",
       "    <tr>\n",
       "      <th>2018-02-01</th>\n",
       "      <td>H1-2018</td>\n",
       "      <td>1</td>\n",
       "      <td>B</td>\n",
       "      <td>3366</td>\n",
       "    </tr>\n",
       "    <tr>\n",
       "      <th>2018-03-01</th>\n",
       "      <td>H1-2018</td>\n",
       "      <td>1</td>\n",
       "      <td>B</td>\n",
       "      <td>4116</td>\n",
       "    </tr>\n",
       "  </tbody>\n",
       "</table>\n",
       "</div>"
      ],
      "text/plain": [
       "           HALF YEAR  STORE DAYPART  CUSTOMER_COUNT\n",
       "DATE                                               \n",
       "2018-01-01   H1-2018      1       B            3312\n",
       "2018-02-01   H1-2018      1       B            3366\n",
       "2018-03-01   H1-2018      1       B            4116"
      ]
     },
     "execution_count": 8,
     "metadata": {},
     "output_type": "execute_result"
    }
   ],
   "source": [
    "rawdata2 = clean_up(rawdata2,ds='rawdata2')\n",
    "rawdata2.head(3)"
   ]
  },
  {
   "cell_type": "markdown",
   "id": "39ab4844",
   "metadata": {},
   "source": [
    "## RawDate3"
   ]
  },
  {
   "cell_type": "code",
   "execution_count": 9,
   "id": "143f9e82",
   "metadata": {},
   "outputs": [
    {
     "data": {
      "text/html": [
       "<div>\n",
       "<style scoped>\n",
       "    .dataframe tbody tr th:only-of-type {\n",
       "        vertical-align: middle;\n",
       "    }\n",
       "\n",
       "    .dataframe tbody tr th {\n",
       "        vertical-align: top;\n",
       "    }\n",
       "\n",
       "    .dataframe thead th {\n",
       "        text-align: right;\n",
       "    }\n",
       "</style>\n",
       "<table border=\"1\" class=\"dataframe\">\n",
       "  <thead>\n",
       "    <tr style=\"text-align: right;\">\n",
       "      <th></th>\n",
       "      <th>CITY</th>\n",
       "      <th>STATE</th>\n",
       "      <th>NAME</th>\n",
       "      <th>AREA</th>\n",
       "      <th>REGIONAL_DIRECTOR</th>\n",
       "      <th>REGION</th>\n",
       "    </tr>\n",
       "    <tr>\n",
       "      <th>STORE</th>\n",
       "      <th></th>\n",
       "      <th></th>\n",
       "      <th></th>\n",
       "      <th></th>\n",
       "      <th></th>\n",
       "      <th></th>\n",
       "    </tr>\n",
       "  </thead>\n",
       "  <tbody>\n",
       "    <tr>\n",
       "      <th>1</th>\n",
       "      <td>RIO GRANDE</td>\n",
       "      <td>OH</td>\n",
       "      <td>RIO GRANDE</td>\n",
       "      <td>1</td>\n",
       "      <td>GREEN, JOE</td>\n",
       "      <td>GRANDE, OH</td>\n",
       "    </tr>\n",
       "    <tr>\n",
       "      <th>2</th>\n",
       "      <td>CHILLICOTHE</td>\n",
       "      <td>OH</td>\n",
       "      <td>CHILLICOTHE</td>\n",
       "      <td>26</td>\n",
       "      <td>YELLOW, JAMES</td>\n",
       "      <td>CHILLICOTHE, OH</td>\n",
       "    </tr>\n",
       "    <tr>\n",
       "      <th>3</th>\n",
       "      <td>COLUMBUS</td>\n",
       "      <td>OH</td>\n",
       "      <td>ROUTE 161</td>\n",
       "      <td>7</td>\n",
       "      <td>YELLOW, JAMES</td>\n",
       "      <td>COLUMBUS, OH</td>\n",
       "    </tr>\n",
       "  </tbody>\n",
       "</table>\n",
       "</div>"
      ],
      "text/plain": [
       "              CITY STATE         NAME  AREA REGIONAL_DIRECTOR           REGION\n",
       "STORE                                                                         \n",
       "1       RIO GRANDE    OH   RIO GRANDE     1        GREEN, JOE       GRANDE, OH\n",
       "2      CHILLICOTHE    OH  CHILLICOTHE    26     YELLOW, JAMES  CHILLICOTHE, OH\n",
       "3         COLUMBUS    OH    ROUTE 161     7     YELLOW, JAMES     COLUMBUS, OH"
      ]
     },
     "execution_count": 9,
     "metadata": {},
     "output_type": "execute_result"
    }
   ],
   "source": [
    "rawdata3 = rawdata3.set_index('STORE')\n",
    "rawdata3.head(3)"
   ]
  },
  {
   "cell_type": "markdown",
   "id": "712afe25",
   "metadata": {},
   "source": [
    "## RawDate4"
   ]
  },
  {
   "cell_type": "code",
   "execution_count": 10,
   "id": "02ec3977",
   "metadata": {},
   "outputs": [
    {
     "data": {
      "text/html": [
       "<div>\n",
       "<style scoped>\n",
       "    .dataframe tbody tr th:only-of-type {\n",
       "        vertical-align: middle;\n",
       "    }\n",
       "\n",
       "    .dataframe tbody tr th {\n",
       "        vertical-align: top;\n",
       "    }\n",
       "\n",
       "    .dataframe thead th {\n",
       "        text-align: right;\n",
       "    }\n",
       "</style>\n",
       "<table border=\"1\" class=\"dataframe\">\n",
       "  <thead>\n",
       "    <tr style=\"text-align: right;\">\n",
       "      <th></th>\n",
       "      <th>CATEGORY_DESC</th>\n",
       "      <th>COMMENTS</th>\n",
       "    </tr>\n",
       "    <tr>\n",
       "      <th>CATEGORY_ID</th>\n",
       "      <th></th>\n",
       "      <th></th>\n",
       "    </tr>\n",
       "  </thead>\n",
       "  <tbody>\n",
       "    <tr>\n",
       "      <th>10</th>\n",
       "      <td>BREAKFAST</td>\n",
       "      <td>Breakfast items</td>\n",
       "    </tr>\n",
       "    <tr>\n",
       "      <th>15</th>\n",
       "      <td>SENIORS MEALS</td>\n",
       "      <td>Seniors Meals</td>\n",
       "    </tr>\n",
       "    <tr>\n",
       "      <th>20</th>\n",
       "      <td>DINNER</td>\n",
       "      <td>Dinner items</td>\n",
       "    </tr>\n",
       "    <tr>\n",
       "      <th>25</th>\n",
       "      <td>DINNER ALA</td>\n",
       "      <td>Dinner a-la carte items</td>\n",
       "    </tr>\n",
       "  </tbody>\n",
       "</table>\n",
       "</div>"
      ],
      "text/plain": [
       "             CATEGORY_DESC                 COMMENTS\n",
       "CATEGORY_ID                                        \n",
       "10               BREAKFAST          Breakfast items\n",
       "15           SENIORS MEALS            Seniors Meals\n",
       "20                  DINNER             Dinner items\n",
       "25              DINNER ALA  Dinner a-la carte items"
      ]
     },
     "execution_count": 10,
     "metadata": {},
     "output_type": "execute_result"
    }
   ],
   "source": [
    "rawdata4 = rawdata4.set_index('CATEGORY_ID')\n",
    "rawdata4.head(4)"
   ]
  },
  {
   "cell_type": "markdown",
   "id": "d81e04e6",
   "metadata": {},
   "source": [
    "## Creating Pivot Tables"
   ]
  },
  {
   "cell_type": "code",
   "execution_count": 11,
   "id": "7700b304",
   "metadata": {},
   "outputs": [],
   "source": [
    "# store level pivots\n",
    "df_store_list = piv_fun(rawdata1,rawdata2, piv_type='store')\n",
    "\n",
    "# daypart level pivots\n",
    "df_brkfst_list = piv_fun(rawdata1,rawdata2, piv_type='B')\n",
    "df_lnch_list = piv_fun(rawdata1,rawdata2, piv_type='L')\n",
    "df_dnr_list = piv_fun(rawdata1,rawdata2, piv_type='D')\n",
    "\n",
    "daypart_list = [df_brkfst_list,df_lnch_list,df_dnr_list]\n",
    "\n",
    "# category level pivots\n",
    "df_10_list = piv_fun(rawdata1,rawdata2, piv_type='10')\n",
    "df_15_list = piv_fun(rawdata1,rawdata2, piv_type='15')\n",
    "df_20_list = piv_fun(rawdata1,rawdata2, piv_type='20')\n",
    "df_25_list = piv_fun(rawdata1,rawdata2, piv_type='25')\n",
    "df_30_list = piv_fun(rawdata1,rawdata2, piv_type='30')\n",
    "df_40_list = piv_fun(rawdata1,rawdata2, piv_type='40')\n",
    "df_45_list = piv_fun(rawdata1,rawdata2, piv_type='45')\n",
    "df_50_list = piv_fun(rawdata1,rawdata2, piv_type='50')\n",
    "df_55_list = piv_fun(rawdata1,rawdata2, piv_type='55')\n",
    "df_60_list = piv_fun(rawdata1,rawdata2, piv_type='60')\n",
    "df_99_list = piv_fun(rawdata1,rawdata2, piv_type='99')"
   ]
  },
  {
   "cell_type": "markdown",
   "id": "91337193",
   "metadata": {},
   "source": [
    "# Analysis"
   ]
  },
  {
   "cell_type": "markdown",
   "id": "a25e09b5",
   "metadata": {},
   "source": [
    "## System Wide View"
   ]
  },
  {
   "cell_type": "code",
   "execution_count": 280,
   "id": "54a04008",
   "metadata": {},
   "outputs": [
    {
     "data": {
      "image/png": "[encoded data removed]",
      "text/plain": [
       "<Figure size 800x500 with 1 Axes>"
      ]
     },
     "metadata": {},
     "output_type": "display_data"
    }
   ],
   "source": [
    "gb1 = rawdata1.groupby(['HALF YEAR'])['REVENUE_NET'].sum()\n",
    "gb1 = gb1.drop(labels=['H2-2018'])\n",
    "fig = plt.figure(figsize=(8,5)) # creating the figure object\n",
    "ax = fig.add_subplot() # creating the chart (axes?) object\n",
    "ax.bar(gb1.index,\n",
    "       gb1,\n",
    "       color = ['tab:blue','tab:orange'])\n",
    "ax.set_title('The system grew a small amount in 2019 over 2018 - about 1.4%.', pad=20, loc = 'left')\n",
    "ax.yaxis.set_major_formatter(\"${x:,.0f}\")\n",
    "plt.show()"
   ]
  },
  {
   "cell_type": "code",
   "execution_count": 279,
   "id": "81c35cd9",
   "metadata": {},
   "outputs": [
    {
     "data": {
      "image/png": "[encoded data removed]",
      "text/plain": [
       "<Figure size 800x500 with 1 Axes>"
      ]
     },
     "metadata": {},
     "output_type": "display_data"
    }
   ],
   "source": [
    "gb2 = rawdata2.groupby(['HALF YEAR'])['CUSTOMER_COUNT'].sum()\n",
    "gb2 = gb2.drop(labels=['H2-2018'])\n",
    "fig = plt.figure(figsize=(8,5)) # creating the figure object\n",
    "ax = fig.add_subplot() # creating the chart (axes?) object\n",
    "ax.bar(gb2.index,\n",
    "       gb2,\n",
    "       color = ['tab:blue','tab:orange'])\n",
    "ax.set_title('The system declined in terms of total customer count in 2019 over\\n \\\n",
    "the same period on 2018 - about 3.5%.', pad=20, loc = 'left')\n",
    "ax.yaxis.set_major_formatter(\"{x:,.0f}\")\n",
    "\n",
    "plt.show()"
   ]
  },
  {
   "cell_type": "markdown",
   "id": "99f0a5f4",
   "metadata": {},
   "source": [
    "## Store Level View"
   ]
  },
  {
   "cell_type": "code",
   "execution_count": 222,
   "id": "ec2a9b27",
   "metadata": {},
   "outputs": [],
   "source": [
    "gb2 = pd.pivot_table(rawdata2, values='CUSTOMER_COUNT', index=['STORE'],\n",
    "                       columns=['HALF YEAR'], aggfunc=\"sum\")\n",
    "gb2.columns.name = None\n",
    "\n",
    "column_to_move = gb2.pop(\"H1-2019\")\n",
    "gb2.insert(2, \"H1-2019\", column_to_move)"
   ]
  },
  {
   "cell_type": "code",
   "execution_count": 223,
   "id": "14e9397b",
   "metadata": {},
   "outputs": [
    {
     "data": {
      "text/html": [
       "<div>\n",
       "<style scoped>\n",
       "    .dataframe tbody tr th:only-of-type {\n",
       "        vertical-align: middle;\n",
       "    }\n",
       "\n",
       "    .dataframe tbody tr th {\n",
       "        vertical-align: top;\n",
       "    }\n",
       "\n",
       "    .dataframe thead th {\n",
       "        text-align: right;\n",
       "    }\n",
       "</style>\n",
       "<table border=\"1\" class=\"dataframe\">\n",
       "  <thead>\n",
       "    <tr style=\"text-align: right;\">\n",
       "      <th></th>\n",
       "      <th>H1-2018</th>\n",
       "      <th>H2-2018</th>\n",
       "      <th>H1-2019</th>\n",
       "    </tr>\n",
       "    <tr>\n",
       "      <th>STORE</th>\n",
       "      <th></th>\n",
       "      <th></th>\n",
       "      <th></th>\n",
       "    </tr>\n",
       "  </thead>\n",
       "  <tbody>\n",
       "    <tr>\n",
       "      <th>1</th>\n",
       "      <td>106278</td>\n",
       "      <td>116647</td>\n",
       "      <td>104287</td>\n",
       "    </tr>\n",
       "    <tr>\n",
       "      <th>2</th>\n",
       "      <td>142544</td>\n",
       "      <td>157363</td>\n",
       "      <td>146512</td>\n",
       "    </tr>\n",
       "    <tr>\n",
       "      <th>3</th>\n",
       "      <td>116876</td>\n",
       "      <td>122008</td>\n",
       "      <td>110326</td>\n",
       "    </tr>\n",
       "    <tr>\n",
       "      <th>4</th>\n",
       "      <td>62613</td>\n",
       "      <td>66529</td>\n",
       "      <td>63869</td>\n",
       "    </tr>\n",
       "    <tr>\n",
       "      <th>5</th>\n",
       "      <td>139471</td>\n",
       "      <td>139406</td>\n",
       "      <td>121467</td>\n",
       "    </tr>\n",
       "  </tbody>\n",
       "</table>\n",
       "</div>"
      ],
      "text/plain": [
       "       H1-2018  H2-2018  H1-2019\n",
       "STORE                           \n",
       "1       106278   116647   104287\n",
       "2       142544   157363   146512\n",
       "3       116876   122008   110326\n",
       "4        62613    66529    63869\n",
       "5       139471   139406   121467"
      ]
     },
     "execution_count": 223,
     "metadata": {},
     "output_type": "execute_result"
    }
   ],
   "source": [
    "gb2.head(5)"
   ]
  },
  {
   "cell_type": "code",
   "execution_count": 224,
   "id": "a3639fcc",
   "metadata": {},
   "outputs": [
    {
     "data": {
      "image/png": "[encoded data removed]",
      "text/plain": [
       "<Figure size 640x480 with 1 Axes>"
      ]
     },
     "metadata": {},
     "output_type": "display_data"
    }
   ],
   "source": [
    "labels = gb2.index # Days\n",
    "\n",
    "H1_2018 = gb2['H1-2018']\n",
    "H2_2018 = gb2['H2-2018']\n",
    "H1_2019 = gb2['H1-2019']\n",
    "\n",
    "x = np.arange(len(labels)) # location of x ticks\n",
    "width = 0.3 # width of bars\n",
    "\n",
    "fig, ax = plt.subplots()\n",
    "p1 = ax.bar(x - width/2, H1_2018, width, label = \"H1_2018\")\n",
    "# p2 = ax.bar(x, H2_2018, width, label = \"H2_2018\")\n",
    "p3 = ax.bar(x + width/2, H1_2019, width, label = \"H1_2019\")\n",
    "\n",
    "#labels\n",
    "ax.set_ylabel('Customer Count')\n",
    "ax.set_xlabel('Store')\n",
    "ax.set_title('Customer Count By Store')\n",
    "ax.set_xticks(x)\n",
    "ax.set_xticklabels(labels)\n",
    "ax.legend()\n",
    "\n",
    "# ax.bar_label(p1, padding=3, fmt=\"%.2f\")\n",
    "# ax.bar_label(p2, padding=3, fmt=\"%.2f\")\n",
    "# ax.bar_label(p3, padding=3, fmt=\"%.2f\")\n",
    "\n",
    "fig.tight_layout()\n",
    "plt.show()"
   ]
  },
  {
   "cell_type": "markdown",
   "id": "9eeff133",
   "metadata": {},
   "source": [
    "## Daypart Level View"
   ]
  },
  {
   "cell_type": "code",
   "execution_count": 225,
   "id": "6affaa95",
   "metadata": {},
   "outputs": [],
   "source": [
    "gb_dp = pd.pivot_table(rawdata2, values='CUSTOMER_COUNT', index=['DAYPART'],\n",
    "                       columns=['HALF YEAR'], aggfunc=\"sum\")\n",
    "gb_dp.columns.name = None\n",
    "\n",
    "column_to_move = gb_dp.pop(\"H1-2019\")\n",
    "gb_dp.insert(2, \"H1-2019\", column_to_move)"
   ]
  },
  {
   "cell_type": "code",
   "execution_count": 285,
   "id": "69a05bf7",
   "metadata": {},
   "outputs": [
    {
     "data": {
      "image/png": "[encoded data removed]",
      "text/plain": [
       "<Figure size 800x500 with 1 Axes>"
      ]
     },
     "metadata": {},
     "output_type": "display_data"
    }
   ],
   "source": [
    "labels = gb_dp.index # Days\n",
    "\n",
    "H1_2018 = gb_dp['H1-2018']\n",
    "H2_2018 = gb_dp['H2-2018']\n",
    "H1_2019 = gb_dp['H1-2019']\n",
    "\n",
    "x = np.arange(len(labels)) # location of x ticks\n",
    "width = 0.4 # width of bars\n",
    "\n",
    "fig, ax = plt.subplots(figsize=(8,5))\n",
    "p1 = ax.bar(x - width/2, H1_2018, width, label = \"H1_2018\")\n",
    "# p2 = ax.bar(x, H2_2018, width, label = \"H2_2018\")\n",
    "p3 = ax.bar(x + width/2, H1_2019, width, label = \"H1_2019\")\n",
    "\n",
    "#labels\n",
    "ax.set_ylabel('Customer Count')\n",
    "ax.set_xlabel('Store')\n",
    "ax.set_title('Customer Count By Store')\n",
    "ax.set_xticks(x)\n",
    "ax.set_xticklabels(labels)\n",
    "ax.set_ylim(0,500000)\n",
    "ax.legend()\n",
    "\n",
    "ax.bar_label(p1, padding=3, fmt=\"%.2f\")\n",
    "# ax.bar_label(p2, padding=3, fmt=\"%.2f\")\n",
    "ax.bar_label(p3, padding=3, fmt=\"%.2f\")\n",
    "\n",
    "fig.tight_layout()\n",
    "plt.show()"
   ]
  },
  {
   "cell_type": "markdown",
   "id": "f5e8c912",
   "metadata": {},
   "source": [
    "## Breakfast View for Stores 5 and 10"
   ]
  },
  {
   "cell_type": "code",
   "execution_count": 293,
   "id": "ab245cc6",
   "metadata": {},
   "outputs": [],
   "source": [
    "gb_4 = rawdata2[(rawdata2['STORE']==5) | (rawdata2['STORE']==10)]\n",
    "gb_4 = gb_4[gb_4['DAYPART']=='B']"
   ]
  },
  {
   "cell_type": "code",
   "execution_count": 294,
   "id": "84dc2ef6",
   "metadata": {},
   "outputs": [],
   "source": [
    "gb_4 = pd.pivot_table(gb_4, values='CUSTOMER_COUNT', index=['STORE'],\n",
    "                       columns=['HALF YEAR'], aggfunc=\"sum\")\n",
    "gb_4.columns.name = None\n",
    "\n",
    "column_to_move = gb_4.pop(\"H1-2019\")\n",
    "gb_4.insert(2, \"H1-2019\", column_to_move)"
   ]
  },
  {
   "cell_type": "code",
   "execution_count": 297,
   "id": "b6387c71",
   "metadata": {},
   "outputs": [
    {
     "data": {
      "image/png": "[encoded data removed]",
      "text/plain": [
       "<Figure size 640x480 with 1 Axes>"
      ]
     },
     "metadata": {},
     "output_type": "display_data"
    }
   ],
   "source": [
    "labels = gb_4.index # Days\n",
    "\n",
    "H1_2018 = gb_4['H1-2018']\n",
    "H2_2018 = gb_4['H2-2018']\n",
    "H1_2019 = gb_4['H1-2019']\n",
    "\n",
    "x = np.arange(len(labels)) # location of x ticks\n",
    "width = 0.4 # width of bars\n",
    "\n",
    "fig, ax = plt.subplots()\n",
    "p1 = ax.bar(x - width/2, H1_2018, width, label = \"H1_2018\")\n",
    "# p2 = ax.bar(x, H2_2018, width, label = \"H2_2018\")\n",
    "p3 = ax.bar(x + width/2, H1_2019, width, label = \"H1_2019\")\n",
    "\n",
    "#labels\n",
    "ax.set_ylabel('Customer Count')\n",
    "ax.set_xlabel('Store')\n",
    "ax.set_title('Customer Count By Store')\n",
    "ax.set_xticks(x)\n",
    "ax.set_xticklabels(labels)\n",
    "ax.set_ylim(0,50000)\n",
    "ax.legend()\n",
    "\n",
    "ax.bar_label(p1, padding=3, fmt=\"%.2f\")\n",
    "# ax.bar_label(p2, padding=3, fmt=\"%.2f\")\n",
    "ax.bar_label(p3, padding=3, fmt=\"%.2f\")\n",
    "\n",
    "fig.tight_layout()\n",
    "plt.show()"
   ]
  },
  {
   "cell_type": "code",
   "execution_count": null,
   "id": "4df8f2a7",
   "metadata": {},
   "outputs": [],
   "source": []
  },
  {
   "cell_type": "code",
   "execution_count": null,
   "id": "f11588b8",
   "metadata": {},
   "outputs": [],
   "source": []
  },
  {
   "cell_type": "code",
   "execution_count": null,
   "id": "82df3b3e",
   "metadata": {},
   "outputs": [],
   "source": []
  },
  {
   "cell_type": "code",
   "execution_count": null,
   "id": "d1f576f7",
   "metadata": {},
   "outputs": [],
   "source": []
  },
  {
   "cell_type": "code",
   "execution_count": null,
   "id": "b9a103c9",
   "metadata": {},
   "outputs": [],
   "source": []
  },
  {
   "cell_type": "code",
   "execution_count": null,
   "id": "0b2aa52e",
   "metadata": {},
   "outputs": [],
   "source": []
  },
  {
   "cell_type": "code",
   "execution_count": null,
   "id": "fe81ffcc",
   "metadata": {},
   "outputs": [],
   "source": []
  },
  {
   "cell_type": "code",
   "execution_count": 102,
   "id": "4718f822",
   "metadata": {},
   "outputs": [
    {
     "data": {
      "text/html": [
       "<div>\n",
       "<style scoped>\n",
       "    .dataframe tbody tr th:only-of-type {\n",
       "        vertical-align: middle;\n",
       "    }\n",
       "\n",
       "    .dataframe tbody tr th {\n",
       "        vertical-align: top;\n",
       "    }\n",
       "\n",
       "    .dataframe thead th {\n",
       "        text-align: right;\n",
       "    }\n",
       "</style>\n",
       "<table border=\"1\" class=\"dataframe\">\n",
       "  <thead>\n",
       "    <tr style=\"text-align: right;\">\n",
       "      <th>sex</th>\n",
       "      <th>Male</th>\n",
       "      <th>Female</th>\n",
       "    </tr>\n",
       "    <tr>\n",
       "      <th>day</th>\n",
       "      <th></th>\n",
       "      <th></th>\n",
       "    </tr>\n",
       "  </thead>\n",
       "  <tbody>\n",
       "    <tr>\n",
       "      <th>Thur</th>\n",
       "      <td>2.980333</td>\n",
       "      <td>2.575625</td>\n",
       "    </tr>\n",
       "    <tr>\n",
       "      <th>Fri</th>\n",
       "      <td>2.693000</td>\n",
       "      <td>2.781111</td>\n",
       "    </tr>\n",
       "    <tr>\n",
       "      <th>Sat</th>\n",
       "      <td>3.083898</td>\n",
       "      <td>2.801786</td>\n",
       "    </tr>\n",
       "    <tr>\n",
       "      <th>Sun</th>\n",
       "      <td>3.220345</td>\n",
       "      <td>3.367222</td>\n",
       "    </tr>\n",
       "  </tbody>\n",
       "</table>\n",
       "</div>"
      ],
      "text/plain": [
       "sex       Male    Female\n",
       "day                     \n",
       "Thur  2.980333  2.575625\n",
       "Fri   2.693000  2.781111\n",
       "Sat   3.083898  2.801786\n",
       "Sun   3.220345  3.367222"
      ]
     },
     "execution_count": 102,
     "metadata": {},
     "output_type": "execute_result"
    }
   ],
   "source": [
    "data"
   ]
  },
  {
   "cell_type": "code",
   "execution_count": 98,
   "id": "f7b3f80f",
   "metadata": {},
   "outputs": [],
   "source": [
    "result = pd.DataFrame(gb1)"
   ]
  },
  {
   "cell_type": "code",
   "execution_count": 100,
   "id": "2009ac4f",
   "metadata": {},
   "outputs": [
    {
     "data": {
      "text/html": [
       "<div>\n",
       "<style scoped>\n",
       "    .dataframe tbody tr th:only-of-type {\n",
       "        vertical-align: middle;\n",
       "    }\n",
       "\n",
       "    .dataframe tbody tr th {\n",
       "        vertical-align: top;\n",
       "    }\n",
       "\n",
       "    .dataframe thead th {\n",
       "        text-align: right;\n",
       "    }\n",
       "</style>\n",
       "<table border=\"1\" class=\"dataframe\">\n",
       "  <thead>\n",
       "    <tr style=\"text-align: right;\">\n",
       "      <th></th>\n",
       "      <th>REVENUE_NET</th>\n",
       "    </tr>\n",
       "    <tr>\n",
       "      <th>HALF YEAR</th>\n",
       "      <th></th>\n",
       "    </tr>\n",
       "  </thead>\n",
       "  <tbody>\n",
       "    <tr>\n",
       "      <th>H1-2018</th>\n",
       "      <td>8372700</td>\n",
       "    </tr>\n",
       "    <tr>\n",
       "      <th>H1-2019</th>\n",
       "      <td>8491200</td>\n",
       "    </tr>\n",
       "  </tbody>\n",
       "</table>\n",
       "</div>"
      ],
      "text/plain": [
       "           REVENUE_NET\n",
       "HALF YEAR             \n",
       "H1-2018        8372700\n",
       "H1-2019        8491200"
      ]
     },
     "execution_count": 100,
     "metadata": {},
     "output_type": "execute_result"
    }
   ],
   "source": [
    "result"
   ]
  },
  {
   "cell_type": "code",
   "execution_count": null,
   "id": "19db7ad7",
   "metadata": {},
   "outputs": [],
   "source": []
  },
  {
   "cell_type": "markdown",
   "id": "4cd7a9d4",
   "metadata": {},
   "source": [
    "# Plotting Data"
   ]
  },
  {
   "cell_type": "code",
   "execution_count": null,
   "id": "afb3a0fb",
   "metadata": {},
   "outputs": [],
   "source": [
    "store = '10'\n",
    "fig = plt.figure(figsize=(7,4)) # creating the figure object\n",
    "ax = fig.add_subplot()\n",
    "fig.suptitle('Store 1: Overall View', # title for the figure\n",
    "              fontsize = 15,\n",
    "              x = 0.1,\n",
    "              y = 1.0)\n",
    "\n",
    "plot_fun1(df_store_list,store,ax)"
   ]
  },
  {
   "cell_type": "code",
   "execution_count": null,
   "id": "bb1a371f",
   "metadata": {},
   "outputs": [],
   "source": [
    "fig, axes = plt.subplots(3,1, figsize=(7.5,7.5),sharex=True)\n",
    "axes = axes.flatten()\n",
    "fig.suptitle('Store 1: Daypart View', # title for the figure\n",
    "              fontsize = 15,\n",
    "              x = 0.1,\n",
    "              y = 1.0)\n",
    "\n",
    "for i,axe in enumerate(axes):\n",
    "    plot_fun1(daypart_list[i],store,axe,plot_num = i,type='dp')"
   ]
  },
  {
   "cell_type": "code",
   "execution_count": null,
   "id": "2ea1608a",
   "metadata": {},
   "outputs": [],
   "source": [
    "df_store_list[0]"
   ]
  },
  {
   "cell_type": "code",
   "execution_count": null,
   "id": "8f88cce5",
   "metadata": {},
   "outputs": [],
   "source": [
    "df_store_list[1]"
   ]
  },
  {
   "cell_type": "code",
   "execution_count": null,
   "id": "bdfc3134",
   "metadata": {},
   "outputs": [],
   "source": [
    "df_store_list[3]"
   ]
  },
  {
   "cell_type": "markdown",
   "id": "5428919f",
   "metadata": {},
   "source": [
    "### Breakfast Level"
   ]
  },
  {
   "cell_type": "code",
   "execution_count": null,
   "id": "285bf1c1",
   "metadata": {},
   "outputs": [],
   "source": [
    "fig, axes = plt.subplots(1,4, figsize=(18, 4))\n",
    "axes = axes.flatten()\n",
    "\n",
    "for i,axe in enumerate(axes):\n",
    "    plot_fun1(df_brkfst_list[i],i,store, axe)"
   ]
  },
  {
   "cell_type": "markdown",
   "id": "6ff9c830",
   "metadata": {},
   "source": [
    "### Lunch Level"
   ]
  },
  {
   "cell_type": "code",
   "execution_count": null,
   "id": "2dc48a8e",
   "metadata": {},
   "outputs": [],
   "source": [
    "fig, axes = plt.subplots(1,4, figsize=(18, 4))\n",
    "axes = axes.flatten()\n",
    "\n",
    "for i,axe in enumerate(axes):\n",
    "    plot_fun1(df_lnch_list[i],i,store, axe)"
   ]
  },
  {
   "cell_type": "markdown",
   "id": "4c3e3963",
   "metadata": {},
   "source": [
    "### Dinner Level"
   ]
  },
  {
   "cell_type": "code",
   "execution_count": null,
   "id": "bb4926b7",
   "metadata": {},
   "outputs": [],
   "source": [
    "fig, axes = plt.subplots(1,4, figsize=(18, 4))\n",
    "axes = axes.flatten()\n",
    "\n",
    "for i,axe in enumerate(axes):\n",
    "    plot_fun1(df_dnr_list[i],i,store, axe)"
   ]
  },
  {
   "cell_type": "markdown",
   "id": "99461b14",
   "metadata": {},
   "source": [
    "### 10 Level"
   ]
  },
  {
   "cell_type": "code",
   "execution_count": null,
   "id": "870064cc",
   "metadata": {},
   "outputs": [],
   "source": [
    "fig, axes = plt.subplots(1,3, figsize=(18, 4))\n",
    "axes = axes.flatten()\n",
    "\n",
    "for i,axe in enumerate(axes):\n",
    "    plot_fun2(df_10_list[i],i,store, axe)"
   ]
  },
  {
   "cell_type": "code",
   "execution_count": null,
   "id": "d88cfd22",
   "metadata": {},
   "outputs": [],
   "source": []
  },
  {
   "cell_type": "code",
   "execution_count": null,
   "id": "93092f0a",
   "metadata": {},
   "outputs": [],
   "source": []
  },
  {
   "cell_type": "code",
   "execution_count": null,
   "id": "d8c47855",
   "metadata": {},
   "outputs": [],
   "source": []
  },
  {
   "cell_type": "code",
   "execution_count": null,
   "id": "92fb0e3e",
   "metadata": {},
   "outputs": [],
   "source": []
  },
  {
   "cell_type": "code",
   "execution_count": null,
   "id": "4d5d8f7c",
   "metadata": {},
   "outputs": [],
   "source": []
  },
  {
   "cell_type": "code",
   "execution_count": null,
   "id": "4df61fe2",
   "metadata": {},
   "outputs": [],
   "source": []
  },
  {
   "cell_type": "code",
   "execution_count": null,
   "id": "012de729",
   "metadata": {},
   "outputs": [],
   "source": []
  },
  {
   "cell_type": "code",
   "execution_count": null,
   "id": "db9df779",
   "metadata": {},
   "outputs": [],
   "source": []
  },
  {
   "cell_type": "code",
   "execution_count": null,
   "id": "2b1ed5e3",
   "metadata": {},
   "outputs": [],
   "source": []
  },
  {
   "cell_type": "code",
   "execution_count": null,
   "id": "df90d6bf",
   "metadata": {},
   "outputs": [],
   "source": []
  },
  {
   "cell_type": "code",
   "execution_count": null,
   "id": "e8f3f4ba",
   "metadata": {},
   "outputs": [],
   "source": []
  },
  {
   "cell_type": "code",
   "execution_count": null,
   "id": "4b180845",
   "metadata": {},
   "outputs": [],
   "source": []
  },
  {
   "cell_type": "code",
   "execution_count": null,
   "id": "097747de",
   "metadata": {},
   "outputs": [],
   "source": []
  }
 ],
 "metadata": {
  "kernelspec": {
   "display_name": "Python 3 (ipykernel)",
   "language": "python",
   "name": "python3"
  },
  "language_info": {
   "codemirror_mode": {
    "name": "ipython",
    "version": 3
   },
   "file_extension": ".py",
   "mimetype": "text/x-python",
   "name": "python",
   "nbconvert_exporter": "python",
   "pygments_lexer": "ipython3",
   "version": "3.11.4"
  },
  "toc": {
   "base_numbering": 1,
   "nav_menu": {},
   "number_sections": true,
   "sideBar": true,
   "skip_h1_title": false,
   "title_cell": "Table of Contents",
   "title_sidebar": "Contents",
   "toc_cell": false,
   "toc_position": {
    "height": "calc(100% - 180px)",
    "left": "10px",
    "top": "150px",
    "width": "440.32px"
   },
   "toc_section_display": true,
   "toc_window_display": true
  }
 },
 "nbformat": 4,
 "nbformat_minor": 5
}
