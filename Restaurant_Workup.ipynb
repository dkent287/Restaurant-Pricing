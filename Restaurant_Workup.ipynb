{
 "cells": [
  {
   "cell_type": "markdown",
   "id": "33ef1357",
   "metadata": {},
   "source": [
    "# Importing Libraries, Setting Helper Fucnctions and Reading in Data"
   ]
  },
  {
   "cell_type": "code",
   "execution_count": 1,
   "id": "64896e82",
   "metadata": {},
   "outputs": [],
   "source": [
    "%matplotlib inline\n",
    "import numpy as np\n",
    "import pandas as pd\n",
    "import matplotlib.pyplot as plt\n",
    "import matplotlib as mpl\n",
    "\n",
    "import math\n",
    "import os\n",
    "import statistics\n",
    "\n",
    "import statsmodels.api as sm\n",
    "from statsmodels.tsa.stattools import adfuller\n",
    "\n",
    "import scipy.stats as stats\n",
    "from scipy.stats import chi2_contingency\n",
    "from scipy.stats import anderson\n",
    "\n",
    "\n",
    "# an initial clean-up function\n",
    "def clean_up(df,ds='rawdata1'):\n",
    "    df[\"YEAR\"] = df[\"YEAR\"].astype('str')\n",
    "    df[\"MONTH\"] = df[\"MONTH\"].astype('str')\n",
    "    df[\"DATE\"] = df[\"MONTH\"] + '-' + df[\"YEAR\"]\n",
    "    df[\"DATE\"] =  pd.to_datetime(df[\"DATE\"], format=\"%m-%Y\")\n",
    "    df['half year'] = np.where(df['DATE'].dt.month.le(6), 'H1', 'H2')\n",
    "    col = df['half year'] + '-' + df[\"YEAR\"]\n",
    "    \n",
    "    if ds == 'rawdata1':\n",
    "        df[\"CATEGORY_ID\"] = df[\"CATEGORY_ID\"].astype('str')\n",
    "        df.insert(1,'HALF YEAR',col)\n",
    "    else:\n",
    "        df.insert(0,'HALF YEAR',col)\n",
    "        \n",
    "    df = df.drop(['YEAR','MONTH','half year'], axis=1)\n",
    "    df = df.set_index('DATE')\n",
    "    \n",
    "    df[\"STORE\"] = df[\"STORE\"].astype('int')\n",
    "    df[\"DAYPART\"] = df[\"DAYPART\"].astype('str')\n",
    "    \n",
    "    return df\n",
    "\n",
    "\n",
    "# a function to produce pivot tables\n",
    "def piv_fun(rawdata_1,rawdata_2, piv_type='store'):\n",
    "    \n",
    "    daypart_list = ['B','L','D']\n",
    "    category_list = ['10','15','20','25','30','40','45','50','55','60','99']\n",
    "    helper_list = ['B','L','D','store']\n",
    "\n",
    "    if piv_type=='store':\n",
    "        rawdata_1_filt = rawdata_1\n",
    "        rawdata_2_filt = rawdata_2\n",
    "    elif piv_type in daypart_list:\n",
    "        rawdata_1_filt = rawdata_1[rawdata_1['DAYPART']==piv_type]\n",
    "        rawdata_2_filt = rawdata_2[rawdata_2['DAYPART']==piv_type]\n",
    "    else:\n",
    "        rawdata_1_filt = rawdata_1[rawdata_1['CATEGORY_ID']==piv_type]\n",
    "  \n",
    "    # revenue pivot\n",
    "    rawdata_1_filt_rev = pd.pivot_table(rawdata_1_filt, values='REVENUE_NET', index=['DATE'],\n",
    "                       columns=['STORE'], aggfunc=\"sum\")\n",
    "    rawdata_1_filt_rev.columns.name = None\n",
    "    rawdata_1_filt_rev['Str Smpl Total']= rawdata_1_filt_rev.iloc[:,:].sum(axis=1)\n",
    "    rawdata_1_filt_rev['Columbus_Region']= rawdata_1_filt_rev.iloc[:,2:4].sum(axis=1)\n",
    "\n",
    "    # quantity pivot\n",
    "    rawdata_1_filt_quan = pd.pivot_table(rawdata_1_filt, values='QTY', index=['DATE'],\n",
    "                       columns=['STORE'], aggfunc=\"sum\")\n",
    "    rawdata_1_filt_quan.columns.name = None\n",
    "    rawdata_1_filt_quan['Str Smpl Total']= rawdata_1_filt_quan.iloc[:,:].sum(axis=1)\n",
    "    rawdata_1_filt_quan['Columbus_Region']= rawdata_1_filt_quan.iloc[:,2:4].sum(axis=1)\n",
    "    \n",
    "    # customer count pivot\n",
    "    if piv_type in helper_list:\n",
    "        rawdata_2_custcnt = pd.pivot_table(rawdata_2_filt, values='CUSTOMER_COUNT', index=['DATE'],\n",
    "                           columns=['STORE'], aggfunc=\"sum\")\n",
    "        rawdata_2_custcnt.columns.name = None\n",
    "        rawdata_2_custcnt['Str Smpl Total']= rawdata_2_custcnt.iloc[:,:].sum(axis=1)\n",
    "        rawdata_2_custcnt['Columbus_Region']= rawdata_2_custcnt.iloc[:,2:4].sum(axis=1)\n",
    "\n",
    "    else:\n",
    "        rawdata_2_custcnt = None\n",
    "    \n",
    "    return rawdata_1_filt_rev,rawdata_1_filt_quan,rawdata_2_custcnt\n",
    "\n",
    "    \n",
    "def plot_fun2(df,i,store,ax):\n",
    "    \n",
    "    if i==0:\n",
    "        ax.plot(df[store])\n",
    "        ax.set_ylim(bottom = 0)\n",
    "        ax.set_title('Total Revenues')\n",
    "        ax.tick_params(axis='x', rotation=45)\n",
    "\n",
    "    if i==1:\n",
    "        ax.plot(df[store])\n",
    "        ax.set_ylim(bottom = 0)\n",
    "        ax.set_title('Total Quantity')\n",
    "        ax.tick_params(axis='x', rotation=45)\n",
    "        \n",
    "    if i+1==3:\n",
    "        ax.plot(df[store])\n",
    "        ax.set_title('Average Prices')\n",
    "        ax.tick_params(axis='x', rotation=45)            \n",
    "        \n",
    "\n",
    "# Settings\n",
    "pd.set_option('display.max_columns', 50)\n",
    "os.chdir('C:/Users/darre/Documents/Restaurant-Pricing')"
   ]
  },
  {
   "cell_type": "code",
   "execution_count": 2,
   "id": "36673c86",
   "metadata": {},
   "outputs": [],
   "source": [
    "def plot_fun1(df,store,ax,**kwargs):\n",
    "    \n",
    "    # creating dictionaries to help with subplot titles\n",
    "    dict_daypart = {0: 'Breakfast',\n",
    "        1: 'Lunch',\n",
    "        2: 'Dinner'}\n",
    "    \n",
    "    dict_category = {0: 'BREAKFAST',\n",
    "        1: 'SENIORS MEALS',\n",
    "        2: 'DINNER',\n",
    "        3: 'DINNER ALA',\n",
    "        4: 'LUNCH',\n",
    "        5: 'SOUP SALAD',\n",
    "        6: 'KIDS',\n",
    "        7: 'BEVERAGE',\n",
    "        8: 'DESSERTS',\n",
    "        9: 'BRKFST ALA',\n",
    "       }\n",
    "    \n",
    "    # plotting Revenue\n",
    "    ax.plot(df[0][store],label = 'Net Revenue ($)')\n",
    "    ax.set_ylim(bottom = 0)\n",
    "\n",
    "    # plotting Quantity\n",
    "    ax.plot(df[1][store],label = 'Quantity (units)')\n",
    "\n",
    "    # plotting Customer Counts\n",
    "    ax.plot(df[2][store],label = 'Customer Count (units)')\n",
    "    \n",
    "    ax.tick_params(axis='x', rotation=45)\n",
    "    \n",
    "    # plotting Average Price / Unit\n",
    "    ax2 = ax.twinx()  # instantiate a second axes that shares the same x-axis\n",
    "    color='tab:red'\n",
    "    ax2.plot(df[3][store],color=color,linestyle = '--',label='Average Price / Unit ($)')\n",
    "    ax2.tick_params(axis='y', labelcolor=color)\n",
    "    ax2.set_ylim(bottom = 0)\n",
    "\n",
    "    # attending subplot titles\n",
    "    if kwargs.get('type')=='dp':\n",
    "        i = kwargs.get('plot_num')\n",
    "        title = dict_daypart.get(i)\n",
    "        ax.set_title(title,loc='left')\n",
    "    if kwargs.get('type')=='cat':\n",
    "        i = kwargs.get('plot_num')\n",
    "        title = dict_category.get(i)\n",
    "        ax.set_title(title)    \n",
    "    \n",
    "    # attending legend\n",
    "    if kwargs.get('type')=='dp':  \n",
    "        ax.legend(bbox_to_anchor=(1.43,0.9),\n",
    "          frameon=True)\n",
    "        ax2.legend(bbox_to_anchor=(1.43,0.4),\n",
    "              frameon=True)\n",
    "    elif kwargs.get('type')=='cat':\n",
    "        pass\n",
    "    else:\n",
    "        ax.legend(bbox_to_anchor=(1.52,0.9),\n",
    "          frameon=True)\n",
    "        ax2.legend(bbox_to_anchor=(1.52,0.6),\n",
    "          frameon=True)"
   ]
  },
  {
   "cell_type": "code",
   "execution_count": 3,
   "id": "2df45268",
   "metadata": {},
   "outputs": [],
   "source": [
    "rawdata1 = pd.read_csv('RAWDATA1.csv')\n",
    "rawdata2 = pd.read_csv('RAWDATA2.csv')\n",
    "rawdata3 = pd.read_csv('RAWDATA3.csv')\n",
    "rawdata4 = pd.read_csv('RAWDATA4.csv')"
   ]
  },
  {
   "cell_type": "markdown",
   "id": "f688c00a",
   "metadata": {},
   "source": [
    "# Clean-Up on Data"
   ]
  },
  {
   "cell_type": "markdown",
   "id": "a2b73af2",
   "metadata": {},
   "source": [
    "## RawDate1"
   ]
  },
  {
   "cell_type": "code",
   "execution_count": 4,
   "id": "888531a9",
   "metadata": {},
   "outputs": [
    {
     "data": {
      "text/html": [
       "<div>\n",
       "<style scoped>\n",
       "    .dataframe tbody tr th:only-of-type {\n",
       "        vertical-align: middle;\n",
       "    }\n",
       "\n",
       "    .dataframe tbody tr th {\n",
       "        vertical-align: top;\n",
       "    }\n",
       "\n",
       "    .dataframe thead th {\n",
       "        text-align: right;\n",
       "    }\n",
       "</style>\n",
       "<table border=\"1\" class=\"dataframe\">\n",
       "  <thead>\n",
       "    <tr style=\"text-align: right;\">\n",
       "      <th></th>\n",
       "      <th>YEAR</th>\n",
       "      <th>MONTH</th>\n",
       "      <th>STORE</th>\n",
       "      <th>DAYPART</th>\n",
       "      <th>CATEGORY_ID</th>\n",
       "      <th>REVENUE_NET</th>\n",
       "      <th>QTY</th>\n",
       "    </tr>\n",
       "  </thead>\n",
       "  <tbody>\n",
       "    <tr>\n",
       "      <th>0</th>\n",
       "      <td>2018</td>\n",
       "      <td>1</td>\n",
       "      <td>1</td>\n",
       "      <td>B</td>\n",
       "      <td>10</td>\n",
       "      <td>11700</td>\n",
       "      <td>2050</td>\n",
       "    </tr>\n",
       "    <tr>\n",
       "      <th>1</th>\n",
       "      <td>2018</td>\n",
       "      <td>1</td>\n",
       "      <td>1</td>\n",
       "      <td>D</td>\n",
       "      <td>10</td>\n",
       "      <td>3700</td>\n",
       "      <td>570</td>\n",
       "    </tr>\n",
       "    <tr>\n",
       "      <th>2</th>\n",
       "      <td>2018</td>\n",
       "      <td>1</td>\n",
       "      <td>1</td>\n",
       "      <td>L</td>\n",
       "      <td>10</td>\n",
       "      <td>7700</td>\n",
       "      <td>1270</td>\n",
       "    </tr>\n",
       "  </tbody>\n",
       "</table>\n",
       "</div>"
      ],
      "text/plain": [
       "   YEAR  MONTH  STORE DAYPART  CATEGORY_ID  REVENUE_NET   QTY\n",
       "0  2018      1      1       B           10        11700  2050\n",
       "1  2018      1      1       D           10         3700   570\n",
       "2  2018      1      1       L           10         7700  1270"
      ]
     },
     "execution_count": 4,
     "metadata": {},
     "output_type": "execute_result"
    }
   ],
   "source": [
    "rawdata1.head(3)"
   ]
  },
  {
   "cell_type": "code",
   "execution_count": 5,
   "id": "e4afe73c",
   "metadata": {},
   "outputs": [
    {
     "data": {
      "text/html": [
       "<div>\n",
       "<style scoped>\n",
       "    .dataframe tbody tr th:only-of-type {\n",
       "        vertical-align: middle;\n",
       "    }\n",
       "\n",
       "    .dataframe tbody tr th {\n",
       "        vertical-align: top;\n",
       "    }\n",
       "\n",
       "    .dataframe thead th {\n",
       "        text-align: right;\n",
       "    }\n",
       "</style>\n",
       "<table border=\"1\" class=\"dataframe\">\n",
       "  <thead>\n",
       "    <tr style=\"text-align: right;\">\n",
       "      <th></th>\n",
       "      <th>HALF YEAR</th>\n",
       "      <th>STORE</th>\n",
       "      <th>DAYPART</th>\n",
       "      <th>CATEGORY_ID</th>\n",
       "      <th>REVENUE_NET</th>\n",
       "      <th>QTY</th>\n",
       "    </tr>\n",
       "    <tr>\n",
       "      <th>DATE</th>\n",
       "      <th></th>\n",
       "      <th></th>\n",
       "      <th></th>\n",
       "      <th></th>\n",
       "      <th></th>\n",
       "      <th></th>\n",
       "    </tr>\n",
       "  </thead>\n",
       "  <tbody>\n",
       "    <tr>\n",
       "      <th>2018-01-01</th>\n",
       "      <td>H1-2018</td>\n",
       "      <td>1</td>\n",
       "      <td>B</td>\n",
       "      <td>10</td>\n",
       "      <td>11700</td>\n",
       "      <td>2050</td>\n",
       "    </tr>\n",
       "    <tr>\n",
       "      <th>2018-01-01</th>\n",
       "      <td>H1-2018</td>\n",
       "      <td>1</td>\n",
       "      <td>D</td>\n",
       "      <td>10</td>\n",
       "      <td>3700</td>\n",
       "      <td>570</td>\n",
       "    </tr>\n",
       "    <tr>\n",
       "      <th>2018-01-01</th>\n",
       "      <td>H1-2018</td>\n",
       "      <td>1</td>\n",
       "      <td>L</td>\n",
       "      <td>10</td>\n",
       "      <td>7700</td>\n",
       "      <td>1270</td>\n",
       "    </tr>\n",
       "  </tbody>\n",
       "</table>\n",
       "</div>"
      ],
      "text/plain": [
       "           HALF YEAR  STORE DAYPART CATEGORY_ID  REVENUE_NET   QTY\n",
       "DATE                                                              \n",
       "2018-01-01   H1-2018      1       B          10        11700  2050\n",
       "2018-01-01   H1-2018      1       D          10         3700   570\n",
       "2018-01-01   H1-2018      1       L          10         7700  1270"
      ]
     },
     "execution_count": 5,
     "metadata": {},
     "output_type": "execute_result"
    }
   ],
   "source": [
    "rawdata1 = clean_up(rawdata1,ds='rawdata1')\n",
    "rawdata1.head(3)"
   ]
  },
  {
   "cell_type": "code",
   "execution_count": 6,
   "id": "2433fbc7",
   "metadata": {},
   "outputs": [
    {
     "data": {
      "text/html": [
       "<div>\n",
       "<style scoped>\n",
       "    .dataframe tbody tr th:only-of-type {\n",
       "        vertical-align: middle;\n",
       "    }\n",
       "\n",
       "    .dataframe tbody tr th {\n",
       "        vertical-align: top;\n",
       "    }\n",
       "\n",
       "    .dataframe thead th {\n",
       "        text-align: right;\n",
       "    }\n",
       "</style>\n",
       "<table border=\"1\" class=\"dataframe\">\n",
       "  <thead>\n",
       "    <tr style=\"text-align: right;\">\n",
       "      <th></th>\n",
       "      <th>HALF YEAR</th>\n",
       "      <th>STORE</th>\n",
       "      <th>DAYPART</th>\n",
       "      <th>CATEGORY_ID</th>\n",
       "      <th>REVENUE_NET</th>\n",
       "      <th>QTY</th>\n",
       "      <th>Avg_Price</th>\n",
       "    </tr>\n",
       "    <tr>\n",
       "      <th>DATE</th>\n",
       "      <th></th>\n",
       "      <th></th>\n",
       "      <th></th>\n",
       "      <th></th>\n",
       "      <th></th>\n",
       "      <th></th>\n",
       "      <th></th>\n",
       "    </tr>\n",
       "  </thead>\n",
       "  <tbody>\n",
       "    <tr>\n",
       "      <th>2018-01-01</th>\n",
       "      <td>H1-2018</td>\n",
       "      <td>1</td>\n",
       "      <td>B</td>\n",
       "      <td>10</td>\n",
       "      <td>11700</td>\n",
       "      <td>2050</td>\n",
       "      <td>5.71</td>\n",
       "    </tr>\n",
       "    <tr>\n",
       "      <th>2018-01-01</th>\n",
       "      <td>H1-2018</td>\n",
       "      <td>1</td>\n",
       "      <td>D</td>\n",
       "      <td>10</td>\n",
       "      <td>3700</td>\n",
       "      <td>570</td>\n",
       "      <td>6.49</td>\n",
       "    </tr>\n",
       "    <tr>\n",
       "      <th>2018-01-01</th>\n",
       "      <td>H1-2018</td>\n",
       "      <td>1</td>\n",
       "      <td>L</td>\n",
       "      <td>10</td>\n",
       "      <td>7700</td>\n",
       "      <td>1270</td>\n",
       "      <td>6.06</td>\n",
       "    </tr>\n",
       "  </tbody>\n",
       "</table>\n",
       "</div>"
      ],
      "text/plain": [
       "           HALF YEAR  STORE DAYPART CATEGORY_ID  REVENUE_NET   QTY  Avg_Price\n",
       "DATE                                                                         \n",
       "2018-01-01   H1-2018      1       B          10        11700  2050       5.71\n",
       "2018-01-01   H1-2018      1       D          10         3700   570       6.49\n",
       "2018-01-01   H1-2018      1       L          10         7700  1270       6.06"
      ]
     },
     "execution_count": 6,
     "metadata": {},
     "output_type": "execute_result"
    }
   ],
   "source": [
    "rawdata1['Avg_Price'] = round(rawdata1['REVENUE_NET'] / rawdata1['QTY'],2)\n",
    "rawdata1.head(3)"
   ]
  },
  {
   "cell_type": "markdown",
   "id": "0e6fa893",
   "metadata": {},
   "source": [
    "## RawDate2"
   ]
  },
  {
   "cell_type": "code",
   "execution_count": 7,
   "id": "6519d97f",
   "metadata": {},
   "outputs": [
    {
     "data": {
      "text/html": [
       "<div>\n",
       "<style scoped>\n",
       "    .dataframe tbody tr th:only-of-type {\n",
       "        vertical-align: middle;\n",
       "    }\n",
       "\n",
       "    .dataframe tbody tr th {\n",
       "        vertical-align: top;\n",
       "    }\n",
       "\n",
       "    .dataframe thead th {\n",
       "        text-align: right;\n",
       "    }\n",
       "</style>\n",
       "<table border=\"1\" class=\"dataframe\">\n",
       "  <thead>\n",
       "    <tr style=\"text-align: right;\">\n",
       "      <th></th>\n",
       "      <th>STORE</th>\n",
       "      <th>DAYPART</th>\n",
       "      <th>YEAR</th>\n",
       "      <th>MONTH</th>\n",
       "      <th>CUSTOMER_COUNT</th>\n",
       "    </tr>\n",
       "  </thead>\n",
       "  <tbody>\n",
       "    <tr>\n",
       "      <th>0</th>\n",
       "      <td>1</td>\n",
       "      <td>B</td>\n",
       "      <td>2018</td>\n",
       "      <td>1</td>\n",
       "      <td>3312</td>\n",
       "    </tr>\n",
       "    <tr>\n",
       "      <th>1</th>\n",
       "      <td>1</td>\n",
       "      <td>B</td>\n",
       "      <td>2018</td>\n",
       "      <td>2</td>\n",
       "      <td>3366</td>\n",
       "    </tr>\n",
       "    <tr>\n",
       "      <th>2</th>\n",
       "      <td>1</td>\n",
       "      <td>B</td>\n",
       "      <td>2018</td>\n",
       "      <td>3</td>\n",
       "      <td>4116</td>\n",
       "    </tr>\n",
       "  </tbody>\n",
       "</table>\n",
       "</div>"
      ],
      "text/plain": [
       "   STORE DAYPART  YEAR  MONTH  CUSTOMER_COUNT\n",
       "0      1       B  2018      1            3312\n",
       "1      1       B  2018      2            3366\n",
       "2      1       B  2018      3            4116"
      ]
     },
     "execution_count": 7,
     "metadata": {},
     "output_type": "execute_result"
    }
   ],
   "source": [
    "rawdata2.head(3)"
   ]
  },
  {
   "cell_type": "code",
   "execution_count": 8,
   "id": "f16a96f5",
   "metadata": {},
   "outputs": [
    {
     "data": {
      "text/html": [
       "<div>\n",
       "<style scoped>\n",
       "    .dataframe tbody tr th:only-of-type {\n",
       "        vertical-align: middle;\n",
       "    }\n",
       "\n",
       "    .dataframe tbody tr th {\n",
       "        vertical-align: top;\n",
       "    }\n",
       "\n",
       "    .dataframe thead th {\n",
       "        text-align: right;\n",
       "    }\n",
       "</style>\n",
       "<table border=\"1\" class=\"dataframe\">\n",
       "  <thead>\n",
       "    <tr style=\"text-align: right;\">\n",
       "      <th></th>\n",
       "      <th>HALF YEAR</th>\n",
       "      <th>STORE</th>\n",
       "      <th>DAYPART</th>\n",
       "      <th>CUSTOMER_COUNT</th>\n",
       "    </tr>\n",
       "    <tr>\n",
       "      <th>DATE</th>\n",
       "      <th></th>\n",
       "      <th></th>\n",
       "      <th></th>\n",
       "      <th></th>\n",
       "    </tr>\n",
       "  </thead>\n",
       "  <tbody>\n",
       "    <tr>\n",
       "      <th>2018-01-01</th>\n",
       "      <td>H1-2018</td>\n",
       "      <td>1</td>\n",
       "      <td>B</td>\n",
       "      <td>3312</td>\n",
       "    </tr>\n",
       "    <tr>\n",
       "      <th>2018-02-01</th>\n",
       "      <td>H1-2018</td>\n",
       "      <td>1</td>\n",
       "      <td>B</td>\n",
       "      <td>3366</td>\n",
       "    </tr>\n",
       "    <tr>\n",
       "      <th>2018-03-01</th>\n",
       "      <td>H1-2018</td>\n",
       "      <td>1</td>\n",
       "      <td>B</td>\n",
       "      <td>4116</td>\n",
       "    </tr>\n",
       "  </tbody>\n",
       "</table>\n",
       "</div>"
      ],
      "text/plain": [
       "           HALF YEAR  STORE DAYPART  CUSTOMER_COUNT\n",
       "DATE                                               \n",
       "2018-01-01   H1-2018      1       B            3312\n",
       "2018-02-01   H1-2018      1       B            3366\n",
       "2018-03-01   H1-2018      1       B            4116"
      ]
     },
     "execution_count": 8,
     "metadata": {},
     "output_type": "execute_result"
    }
   ],
   "source": [
    "rawdata2 = clean_up(rawdata2,ds='rawdata2')\n",
    "rawdata2.head(3)"
   ]
  },
  {
   "cell_type": "markdown",
   "id": "39ab4844",
   "metadata": {},
   "source": [
    "## RawDate3"
   ]
  },
  {
   "cell_type": "code",
   "execution_count": 9,
   "id": "143f9e82",
   "metadata": {},
   "outputs": [
    {
     "data": {
      "text/html": [
       "<div>\n",
       "<style scoped>\n",
       "    .dataframe tbody tr th:only-of-type {\n",
       "        vertical-align: middle;\n",
       "    }\n",
       "\n",
       "    .dataframe tbody tr th {\n",
       "        vertical-align: top;\n",
       "    }\n",
       "\n",
       "    .dataframe thead th {\n",
       "        text-align: right;\n",
       "    }\n",
       "</style>\n",
       "<table border=\"1\" class=\"dataframe\">\n",
       "  <thead>\n",
       "    <tr style=\"text-align: right;\">\n",
       "      <th></th>\n",
       "      <th>CITY</th>\n",
       "      <th>STATE</th>\n",
       "      <th>NAME</th>\n",
       "      <th>AREA</th>\n",
       "      <th>REGIONAL_DIRECTOR</th>\n",
       "      <th>REGION</th>\n",
       "    </tr>\n",
       "    <tr>\n",
       "      <th>STORE</th>\n",
       "      <th></th>\n",
       "      <th></th>\n",
       "      <th></th>\n",
       "      <th></th>\n",
       "      <th></th>\n",
       "      <th></th>\n",
       "    </tr>\n",
       "  </thead>\n",
       "  <tbody>\n",
       "    <tr>\n",
       "      <th>1</th>\n",
       "      <td>RIO GRANDE</td>\n",
       "      <td>OH</td>\n",
       "      <td>RIO GRANDE</td>\n",
       "      <td>1</td>\n",
       "      <td>GREEN, JOE</td>\n",
       "      <td>GRANDE, OH</td>\n",
       "    </tr>\n",
       "    <tr>\n",
       "      <th>2</th>\n",
       "      <td>CHILLICOTHE</td>\n",
       "      <td>OH</td>\n",
       "      <td>CHILLICOTHE</td>\n",
       "      <td>26</td>\n",
       "      <td>YELLOW, JAMES</td>\n",
       "      <td>CHILLICOTHE, OH</td>\n",
       "    </tr>\n",
       "    <tr>\n",
       "      <th>3</th>\n",
       "      <td>COLUMBUS</td>\n",
       "      <td>OH</td>\n",
       "      <td>ROUTE 161</td>\n",
       "      <td>7</td>\n",
       "      <td>YELLOW, JAMES</td>\n",
       "      <td>COLUMBUS, OH</td>\n",
       "    </tr>\n",
       "  </tbody>\n",
       "</table>\n",
       "</div>"
      ],
      "text/plain": [
       "              CITY STATE         NAME  AREA REGIONAL_DIRECTOR           REGION\n",
       "STORE                                                                         \n",
       "1       RIO GRANDE    OH   RIO GRANDE     1        GREEN, JOE       GRANDE, OH\n",
       "2      CHILLICOTHE    OH  CHILLICOTHE    26     YELLOW, JAMES  CHILLICOTHE, OH\n",
       "3         COLUMBUS    OH    ROUTE 161     7     YELLOW, JAMES     COLUMBUS, OH"
      ]
     },
     "execution_count": 9,
     "metadata": {},
     "output_type": "execute_result"
    }
   ],
   "source": [
    "rawdata3 = rawdata3.set_index('STORE')\n",
    "rawdata3.head(3)"
   ]
  },
  {
   "cell_type": "markdown",
   "id": "712afe25",
   "metadata": {},
   "source": [
    "## RawDate4"
   ]
  },
  {
   "cell_type": "code",
   "execution_count": 10,
   "id": "02ec3977",
   "metadata": {},
   "outputs": [
    {
     "data": {
      "text/html": [
       "<div>\n",
       "<style scoped>\n",
       "    .dataframe tbody tr th:only-of-type {\n",
       "        vertical-align: middle;\n",
       "    }\n",
       "\n",
       "    .dataframe tbody tr th {\n",
       "        vertical-align: top;\n",
       "    }\n",
       "\n",
       "    .dataframe thead th {\n",
       "        text-align: right;\n",
       "    }\n",
       "</style>\n",
       "<table border=\"1\" class=\"dataframe\">\n",
       "  <thead>\n",
       "    <tr style=\"text-align: right;\">\n",
       "      <th></th>\n",
       "      <th>CATEGORY_DESC</th>\n",
       "      <th>COMMENTS</th>\n",
       "    </tr>\n",
       "    <tr>\n",
       "      <th>CATEGORY_ID</th>\n",
       "      <th></th>\n",
       "      <th></th>\n",
       "    </tr>\n",
       "  </thead>\n",
       "  <tbody>\n",
       "    <tr>\n",
       "      <th>10</th>\n",
       "      <td>BREAKFAST</td>\n",
       "      <td>Breakfast items</td>\n",
       "    </tr>\n",
       "    <tr>\n",
       "      <th>15</th>\n",
       "      <td>SENIORS MEALS</td>\n",
       "      <td>Seniors Meals</td>\n",
       "    </tr>\n",
       "    <tr>\n",
       "      <th>20</th>\n",
       "      <td>DINNER</td>\n",
       "      <td>Dinner items</td>\n",
       "    </tr>\n",
       "    <tr>\n",
       "      <th>25</th>\n",
       "      <td>DINNER ALA</td>\n",
       "      <td>Dinner a-la carte items</td>\n",
       "    </tr>\n",
       "  </tbody>\n",
       "</table>\n",
       "</div>"
      ],
      "text/plain": [
       "             CATEGORY_DESC                 COMMENTS\n",
       "CATEGORY_ID                                        \n",
       "10               BREAKFAST          Breakfast items\n",
       "15           SENIORS MEALS            Seniors Meals\n",
       "20                  DINNER             Dinner items\n",
       "25              DINNER ALA  Dinner a-la carte items"
      ]
     },
     "execution_count": 10,
     "metadata": {},
     "output_type": "execute_result"
    }
   ],
   "source": [
    "rawdata4 = rawdata4.set_index('CATEGORY_ID')\n",
    "rawdata4.head(4)"
   ]
  },
  {
   "cell_type": "markdown",
   "id": "d81e04e6",
   "metadata": {},
   "source": [
    "## Creating Pivot Tables"
   ]
  },
  {
   "cell_type": "code",
   "execution_count": 11,
   "id": "7700b304",
   "metadata": {},
   "outputs": [],
   "source": [
    "# store level pivots\n",
    "df_store_list = piv_fun(rawdata1,rawdata2, piv_type='store')\n",
    "\n",
    "# daypart level pivots\n",
    "df_brkfst_list = piv_fun(rawdata1,rawdata2, piv_type='B')\n",
    "df_lnch_list = piv_fun(rawdata1,rawdata2, piv_type='L')\n",
    "df_dnr_list = piv_fun(rawdata1,rawdata2, piv_type='D')\n",
    "\n",
    "daypart_list = [df_brkfst_list,df_lnch_list,df_dnr_list]\n",
    "\n",
    "# category level pivots\n",
    "df_10_list = piv_fun(rawdata1,rawdata2, piv_type='10')\n",
    "df_15_list = piv_fun(rawdata1,rawdata2, piv_type='15')\n",
    "df_20_list = piv_fun(rawdata1,rawdata2, piv_type='20')\n",
    "df_25_list = piv_fun(rawdata1,rawdata2, piv_type='25')\n",
    "df_30_list = piv_fun(rawdata1,rawdata2, piv_type='30')\n",
    "df_40_list = piv_fun(rawdata1,rawdata2, piv_type='40')\n",
    "df_45_list = piv_fun(rawdata1,rawdata2, piv_type='45')\n",
    "df_50_list = piv_fun(rawdata1,rawdata2, piv_type='50')\n",
    "df_55_list = piv_fun(rawdata1,rawdata2, piv_type='55')\n",
    "df_60_list = piv_fun(rawdata1,rawdata2, piv_type='60')\n",
    "df_99_list = piv_fun(rawdata1,rawdata2, piv_type='99')"
   ]
  },
  {
   "cell_type": "markdown",
   "id": "220574af",
   "metadata": {},
   "source": [
    "# Analysis"
   ]
  },
  {
   "cell_type": "markdown",
   "id": "1cc57921",
   "metadata": {},
   "source": [
    "## System Wide View"
   ]
  },
  {
   "cell_type": "code",
   "execution_count": 12,
   "id": "f153d0d0",
   "metadata": {},
   "outputs": [
    {
     "data": {
      "image/png": "[encoded data removed]",
      "text/plain": [
       "<Figure size 800x500 with 1 Axes>"
      ]
     },
     "metadata": {},
     "output_type": "display_data"
    }
   ],
   "source": [
    "gb1 = rawdata1.groupby(['HALF YEAR'])['REVENUE_NET'].sum()\n",
    "gb1 = gb1.drop(labels=['H2-2018'])\n",
    "fig = plt.figure(figsize=(8,5)) # creating the figure object\n",
    "ax = fig.add_subplot() # creating the chart (axes?) object\n",
    "ax.bar(gb1.index,\n",
    "       gb1,\n",
    "       color = ['tab:blue','tab:orange'])\n",
    "ax.set_title('The system grew a small amount in 2019 over 2018 - about 1.4%.', pad=20, loc = 'left')\n",
    "ax.yaxis.set_major_formatter(\"${x:,.0f}\")\n",
    "plt.show()"
   ]
  },
  {
   "cell_type": "code",
   "execution_count": 13,
   "id": "6c7ddf88",
   "metadata": {},
   "outputs": [
    {
     "data": {
      "image/png": "[encoded data removed]",
      "text/plain": [
       "<Figure size 800x500 with 1 Axes>"
      ]
     },
     "metadata": {},
     "output_type": "display_data"
    }
   ],
   "source": [
    "gb2 = rawdata2.groupby(['HALF YEAR'])['CUSTOMER_COUNT'].sum()\n",
    "gb2 = gb2.drop(labels=['H2-2018'])\n",
    "fig = plt.figure(figsize=(8,5)) # creating the figure object\n",
    "ax = fig.add_subplot() # creating the chart (axes?) object\n",
    "ax.bar(gb2.index,\n",
    "       gb2,\n",
    "       color = ['tab:blue','tab:orange'])\n",
    "ax.set_title('The system declined in terms of total customer count in 2019 over\\n \\\n",
    "the same period on 2018 - about 3.5%.', pad=20, loc = 'left')\n",
    "ax.yaxis.set_major_formatter(\"{x:,.0f}\")\n",
    "\n",
    "plt.show()"
   ]
  },
  {
   "cell_type": "markdown",
   "id": "28d521a1",
   "metadata": {},
   "source": [
    "## Store Level View"
   ]
  },
  {
   "cell_type": "code",
   "execution_count": 14,
   "id": "fd817857",
   "metadata": {},
   "outputs": [],
   "source": [
    "gb2 = pd.pivot_table(rawdata2, values='CUSTOMER_COUNT', index=['STORE'],\n",
    "                       columns=['HALF YEAR'], aggfunc=\"sum\")\n",
    "gb2.columns.name = None\n",
    "\n",
    "column_to_move = gb2.pop(\"H1-2019\")\n",
    "gb2.insert(2, \"H1-2019\", column_to_move)"
   ]
  },
  {
   "cell_type": "code",
   "execution_count": 15,
   "id": "944d55d5",
   "metadata": {},
   "outputs": [
    {
     "data": {
      "text/html": [
       "<div>\n",
       "<style scoped>\n",
       "    .dataframe tbody tr th:only-of-type {\n",
       "        vertical-align: middle;\n",
       "    }\n",
       "\n",
       "    .dataframe tbody tr th {\n",
       "        vertical-align: top;\n",
       "    }\n",
       "\n",
       "    .dataframe thead th {\n",
       "        text-align: right;\n",
       "    }\n",
       "</style>\n",
       "<table border=\"1\" class=\"dataframe\">\n",
       "  <thead>\n",
       "    <tr style=\"text-align: right;\">\n",
       "      <th></th>\n",
       "      <th>H1-2018</th>\n",
       "      <th>H2-2018</th>\n",
       "      <th>H1-2019</th>\n",
       "    </tr>\n",
       "    <tr>\n",
       "      <th>STORE</th>\n",
       "      <th></th>\n",
       "      <th></th>\n",
       "      <th></th>\n",
       "    </tr>\n",
       "  </thead>\n",
       "  <tbody>\n",
       "    <tr>\n",
       "      <th>1</th>\n",
       "      <td>106278</td>\n",
       "      <td>116647</td>\n",
       "      <td>104287</td>\n",
       "    </tr>\n",
       "    <tr>\n",
       "      <th>2</th>\n",
       "      <td>142544</td>\n",
       "      <td>157363</td>\n",
       "      <td>146512</td>\n",
       "    </tr>\n",
       "    <tr>\n",
       "      <th>3</th>\n",
       "      <td>116876</td>\n",
       "      <td>122008</td>\n",
       "      <td>110326</td>\n",
       "    </tr>\n",
       "    <tr>\n",
       "      <th>4</th>\n",
       "      <td>62613</td>\n",
       "      <td>66529</td>\n",
       "      <td>63869</td>\n",
       "    </tr>\n",
       "    <tr>\n",
       "      <th>5</th>\n",
       "      <td>139471</td>\n",
       "      <td>139406</td>\n",
       "      <td>121467</td>\n",
       "    </tr>\n",
       "  </tbody>\n",
       "</table>\n",
       "</div>"
      ],
      "text/plain": [
       "       H1-2018  H2-2018  H1-2019\n",
       "STORE                           \n",
       "1       106278   116647   104287\n",
       "2       142544   157363   146512\n",
       "3       116876   122008   110326\n",
       "4        62613    66529    63869\n",
       "5       139471   139406   121467"
      ]
     },
     "execution_count": 15,
     "metadata": {},
     "output_type": "execute_result"
    }
   ],
   "source": [
    "gb2.head(5)"
   ]
  },
  {
   "cell_type": "code",
   "execution_count": 16,
   "id": "7f24b479",
   "metadata": {},
   "outputs": [
    {
     "data": {
      "image/png": "[encoded data removed]",
      "text/plain": [
       "<Figure size 640x480 with 1 Axes>"
      ]
     },
     "metadata": {},
     "output_type": "display_data"
    }
   ],
   "source": [
    "labels = gb2.index # Days\n",
    "\n",
    "H1_2018 = gb2['H1-2018']\n",
    "H2_2018 = gb2['H2-2018']\n",
    "H1_2019 = gb2['H1-2019']\n",
    "\n",
    "x = np.arange(len(labels)) # location of x ticks\n",
    "width = 0.3 # width of bars\n",
    "\n",
    "fig, ax = plt.subplots()\n",
    "p1 = ax.bar(x - width/2, H1_2018, width, label = \"H1_2018\")\n",
    "# p2 = ax.bar(x, H2_2018, width, label = \"H2_2018\")\n",
    "p3 = ax.bar(x + width/2, H1_2019, width, label = \"H1_2019\")\n",
    "\n",
    "#labels\n",
    "ax.set_ylabel('Customer Count')\n",
    "ax.set_xlabel('Store')\n",
    "ax.set_title('Customer Count By Store')\n",
    "ax.set_xticks(x)\n",
    "ax.set_xticklabels(labels)\n",
    "ax.legend()\n",
    "\n",
    "# ax.bar_label(p1, padding=3, fmt=\"%.2f\")\n",
    "# ax.bar_label(p2, padding=3, fmt=\"%.2f\")\n",
    "# ax.bar_label(p3, padding=3, fmt=\"%.2f\")\n",
    "\n",
    "fig.tight_layout()\n",
    "plt.show()"
   ]
  },
  {
   "cell_type": "markdown",
   "id": "57909fab",
   "metadata": {},
   "source": [
    "## Daypart Level View"
   ]
  },
  {
   "cell_type": "code",
   "execution_count": 17,
   "id": "49258e39",
   "metadata": {},
   "outputs": [],
   "source": [
    "gb_dp = pd.pivot_table(rawdata2, values='CUSTOMER_COUNT', index=['DAYPART'],\n",
    "                       columns=['HALF YEAR'], aggfunc=\"sum\")\n",
    "gb_dp.columns.name = None\n",
    "\n",
    "column_to_move = gb_dp.pop(\"H1-2019\")\n",
    "gb_dp.insert(2, \"H1-2019\", column_to_move)"
   ]
  },
  {
   "cell_type": "code",
   "execution_count": 18,
   "id": "6a4b52ce",
   "metadata": {},
   "outputs": [
    {
     "data": {
      "image/png": "[encoded data removed]",
      "text/plain": [
       "<Figure size 800x500 with 1 Axes>"
      ]
     },
     "metadata": {},
     "output_type": "display_data"
    }
   ],
   "source": [
    "labels = gb_dp.index # Days\n",
    "\n",
    "H1_2018 = gb_dp['H1-2018']\n",
    "H2_2018 = gb_dp['H2-2018']\n",
    "H1_2019 = gb_dp['H1-2019']\n",
    "\n",
    "x = np.arange(len(labels)) # location of x ticks\n",
    "width = 0.4 # width of bars\n",
    "\n",
    "fig, ax = plt.subplots(figsize=(8,5))\n",
    "p1 = ax.bar(x - width/2, H1_2018, width, label = \"H1_2018\")\n",
    "# p2 = ax.bar(x, H2_2018, width, label = \"H2_2018\")\n",
    "p3 = ax.bar(x + width/2, H1_2019, width, label = \"H1_2019\")\n",
    "\n",
    "#labels\n",
    "ax.set_ylabel('Customer Count')\n",
    "ax.set_xlabel('Store')\n",
    "ax.set_title('Customer Count By Store')\n",
    "ax.set_xticks(x)\n",
    "ax.set_xticklabels(labels)\n",
    "ax.set_ylim(0,500000)\n",
    "ax.legend()\n",
    "\n",
    "ax.bar_label(p1, padding=3, fmt=\"%.2f\")\n",
    "# ax.bar_label(p2, padding=3, fmt=\"%.2f\")\n",
    "ax.bar_label(p3, padding=3, fmt=\"%.2f\")\n",
    "\n",
    "fig.tight_layout()\n",
    "plt.show()"
   ]
  },
  {
   "cell_type": "markdown",
   "id": "c3ce6876",
   "metadata": {},
   "source": [
    "## Breakfast View for Stores 5 and 10"
   ]
  },
  {
   "cell_type": "code",
   "execution_count": 19,
   "id": "f5ecc8b0",
   "metadata": {},
   "outputs": [],
   "source": [
    "gb_4 = rawdata2[(rawdata2['STORE']==5) | (rawdata2['STORE']==10)]\n",
    "gb_4 = gb_4[gb_4['DAYPART']=='B']"
   ]
  },
  {
   "cell_type": "code",
   "execution_count": 20,
   "id": "45c26b4f",
   "metadata": {},
   "outputs": [],
   "source": [
    "gb_4 = pd.pivot_table(gb_4, values='CUSTOMER_COUNT', index=['STORE'],\n",
    "                       columns=['HALF YEAR'], aggfunc=\"sum\")\n",
    "gb_4.columns.name = None\n",
    "\n",
    "column_to_move = gb_4.pop(\"H1-2019\")\n",
    "gb_4.insert(2, \"H1-2019\", column_to_move)"
   ]
  },
  {
   "cell_type": "code",
   "execution_count": 21,
   "id": "a7c742fb",
   "metadata": {},
   "outputs": [
    {
     "data": {
      "image/png": "[encoded data removed]",
      "text/plain": [
       "<Figure size 640x480 with 1 Axes>"
      ]
     },
     "metadata": {},
     "output_type": "display_data"
    }
   ],
   "source": [
    "labels = gb_4.index # Days\n",
    "\n",
    "H1_2018 = gb_4['H1-2018']\n",
    "H2_2018 = gb_4['H2-2018']\n",
    "H1_2019 = gb_4['H1-2019']\n",
    "\n",
    "x = np.arange(len(labels)) # location of x ticks\n",
    "width = 0.4 # width of bars\n",
    "\n",
    "fig, ax = plt.subplots()\n",
    "p1 = ax.bar(x - width/2, H1_2018, width, label = \"H1_2018\")\n",
    "# p2 = ax.bar(x, H2_2018, width, label = \"H2_2018\")\n",
    "p3 = ax.bar(x + width/2, H1_2019, width, label = \"H1_2019\")\n",
    "\n",
    "#labels\n",
    "ax.set_ylabel('Customer Count')\n",
    "ax.set_xlabel('Store')\n",
    "ax.set_title('Customer Count By Store')\n",
    "ax.set_xticks(x)\n",
    "ax.set_xticklabels(labels)\n",
    "ax.set_ylim(0,50000)\n",
    "ax.legend()\n",
    "\n",
    "ax.bar_label(p1, padding=3, fmt=\"%.2f\")\n",
    "# ax.bar_label(p2, padding=3, fmt=\"%.2f\")\n",
    "ax.bar_label(p3, padding=3, fmt=\"%.2f\")\n",
    "\n",
    "fig.tight_layout()\n",
    "plt.show()"
   ]
  },
  {
   "cell_type": "markdown",
   "id": "1a1a88fa",
   "metadata": {},
   "source": [
    "# Forecasting Exercise"
   ]
  },
  {
   "cell_type": "code",
   "execution_count": 154,
   "id": "eebe3da0",
   "metadata": {},
   "outputs": [
    {
     "data": {
      "image/png": "[encoded data removed]",
      "text/plain": [
       "<Figure size 900x400 with 1 Axes>"
      ]
     },
     "metadata": {},
     "output_type": "display_data"
    }
   ],
   "source": [
    "# producing and plotting the intial series\n",
    "rawdata1 = rawdata1.groupby(['DATE'])['REVENUE_NET'].sum().to_frame()\n",
    "\n",
    "fig = plt.figure(figsize=(9,4)) # creating the figure object\n",
    "ax = fig.add_subplot() # creating the chart (axes?) object\n",
    "ax.set_title('Chart Title',\n",
    "             fontsize = 13) # title for the chart\n",
    "ax.plot(rawdata1.index,rawdata1['REVENUE_NET'],\n",
    "        color = 'tab:blue',\n",
    "        linewidth = 2,\n",
    "        label = 'LodgingRevenue')\n",
    "ax.set_xticks(ticks=rawdata1.index[::3],\n",
    "              labels = rawdata1.index[::3].strftime('%Y-%b'),\n",
    "              rotation=45,\n",
    "              ha='center',\n",
    "              fontsize = 11,\n",
    "              minor=False)\n",
    "ax.yaxis.set_major_formatter(\"${x:,.0f}\")\n",
    "plt.show()"
   ]
  },
  {
   "cell_type": "code",
   "execution_count": 159,
   "id": "d403e1f0",
   "metadata": {},
   "outputs": [
    {
     "data": {
      "text/html": [
       "<div>\n",
       "<style scoped>\n",
       "    .dataframe tbody tr th:only-of-type {\n",
       "        vertical-align: middle;\n",
       "    }\n",
       "\n",
       "    .dataframe tbody tr th {\n",
       "        vertical-align: top;\n",
       "    }\n",
       "\n",
       "    .dataframe thead th {\n",
       "        text-align: right;\n",
       "    }\n",
       "</style>\n",
       "<table border=\"1\" class=\"dataframe\">\n",
       "  <thead>\n",
       "    <tr style=\"text-align: right;\">\n",
       "      <th></th>\n",
       "      <th>lb_stat</th>\n",
       "      <th>lb_pvalue</th>\n",
       "    </tr>\n",
       "  </thead>\n",
       "  <tbody>\n",
       "    <tr>\n",
       "      <th>1</th>\n",
       "      <td>0.083959</td>\n",
       "      <td>0.772002</td>\n",
       "    </tr>\n",
       "    <tr>\n",
       "      <th>2</th>\n",
       "      <td>0.298484</td>\n",
       "      <td>0.861361</td>\n",
       "    </tr>\n",
       "    <tr>\n",
       "      <th>3</th>\n",
       "      <td>1.086487</td>\n",
       "      <td>0.780337</td>\n",
       "    </tr>\n",
       "    <tr>\n",
       "      <th>4</th>\n",
       "      <td>5.553595</td>\n",
       "      <td>0.235058</td>\n",
       "    </tr>\n",
       "    <tr>\n",
       "      <th>5</th>\n",
       "      <td>5.873238</td>\n",
       "      <td>0.318749</td>\n",
       "    </tr>\n",
       "    <tr>\n",
       "      <th>6</th>\n",
       "      <td>7.22881</td>\n",
       "      <td>0.300204</td>\n",
       "    </tr>\n",
       "    <tr>\n",
       "      <th>7</th>\n",
       "      <td>9.171865</td>\n",
       "      <td>0.240551</td>\n",
       "    </tr>\n",
       "    <tr>\n",
       "      <th>8</th>\n",
       "      <td>9.500623</td>\n",
       "      <td>0.301837</td>\n",
       "    </tr>\n",
       "    <tr>\n",
       "      <th>9</th>\n",
       "      <td>9.501373</td>\n",
       "      <td>0.392337</td>\n",
       "    </tr>\n",
       "    <tr>\n",
       "      <th>10</th>\n",
       "      <td>9.514684</td>\n",
       "      <td>0.484051</td>\n",
       "    </tr>\n",
       "    <tr>\n",
       "      <th>11</th>\n",
       "      <td>10.026122</td>\n",
       "      <td>0.528039</td>\n",
       "    </tr>\n",
       "    <tr>\n",
       "      <th>12</th>\n",
       "      <td>14.988276</td>\n",
       "      <td>0.242078</td>\n",
       "    </tr>\n",
       "    <tr>\n",
       "      <th>13</th>\n",
       "      <td>14.999752</td>\n",
       "      <td>0.307368</td>\n",
       "    </tr>\n",
       "    <tr>\n",
       "      <th>14</th>\n",
       "      <td>15.049467</td>\n",
       "      <td>0.374782</td>\n",
       "    </tr>\n",
       "    <tr>\n",
       "      <th>15</th>\n",
       "      <td>15.163097</td>\n",
       "      <td>0.439734</td>\n",
       "    </tr>\n",
       "    <tr>\n",
       "      <th>16</th>\n",
       "      <td>16.805519</td>\n",
       "      <td>0.398289</td>\n",
       "    </tr>\n",
       "  </tbody>\n",
       "</table>\n",
       "</div>"
      ],
      "text/plain": [
       "      lb_stat lb_pvalue\n",
       "1    0.083959  0.772002\n",
       "2    0.298484  0.861361\n",
       "3    1.086487  0.780337\n",
       "4    5.553595  0.235058\n",
       "5    5.873238  0.318749\n",
       "6     7.22881  0.300204\n",
       "7    9.171865  0.240551\n",
       "8    9.500623  0.301837\n",
       "9    9.501373  0.392337\n",
       "10   9.514684  0.484051\n",
       "11  10.026122  0.528039\n",
       "12  14.988276  0.242078\n",
       "13  14.999752  0.307368\n",
       "14  15.049467  0.374782\n",
       "15  15.163097  0.439734\n",
       "16  16.805519  0.398289"
      ]
     },
     "execution_count": 159,
     "metadata": {},
     "output_type": "execute_result"
    }
   ],
   "source": [
    "# Lung Box test for White Noise\n",
    "x = rawdata1.to_numpy()\n",
    "df = pd.DataFrame(columns=['lb_stat', 'lb_pvalue'])\n",
    "for i in range(1,17):\n",
    "    ss = sm.stats.acorr_ljungbox(x, lags=[i], return_df=True)\n",
    "    df.loc[i,'lb_stat'] = ss.iloc[0,0]\n",
    "    df.loc[i,'lb_pvalue'] = ss.iloc[0,1]\n",
    "df"
   ]
  },
  {
   "cell_type": "code",
   "execution_count": 169,
   "id": "0cc28bd9",
   "metadata": {},
   "outputs": [
    {
     "data": {
      "text/html": [
       "<div>\n",
       "<style scoped>\n",
       "    .dataframe tbody tr th:only-of-type {\n",
       "        vertical-align: middle;\n",
       "    }\n",
       "\n",
       "    .dataframe tbody tr th {\n",
       "        vertical-align: top;\n",
       "    }\n",
       "\n",
       "    .dataframe thead th {\n",
       "        text-align: right;\n",
       "    }\n",
       "</style>\n",
       "<table border=\"1\" class=\"dataframe\">\n",
       "  <thead>\n",
       "    <tr style=\"text-align: right;\">\n",
       "      <th></th>\n",
       "      <th>lb_stat</th>\n",
       "      <th>lb_pvalue</th>\n",
       "    </tr>\n",
       "  </thead>\n",
       "  <tbody>\n",
       "    <tr>\n",
       "      <th>1</th>\n",
       "      <td>NaN</td>\n",
       "      <td>NaN</td>\n",
       "    </tr>\n",
       "    <tr>\n",
       "      <th>2</th>\n",
       "      <td>NaN</td>\n",
       "      <td>NaN</td>\n",
       "    </tr>\n",
       "    <tr>\n",
       "      <th>3</th>\n",
       "      <td>NaN</td>\n",
       "      <td>NaN</td>\n",
       "    </tr>\n",
       "    <tr>\n",
       "      <th>4</th>\n",
       "      <td>NaN</td>\n",
       "      <td>NaN</td>\n",
       "    </tr>\n",
       "    <tr>\n",
       "      <th>5</th>\n",
       "      <td>NaN</td>\n",
       "      <td>NaN</td>\n",
       "    </tr>\n",
       "    <tr>\n",
       "      <th>6</th>\n",
       "      <td>NaN</td>\n",
       "      <td>NaN</td>\n",
       "    </tr>\n",
       "    <tr>\n",
       "      <th>7</th>\n",
       "      <td>NaN</td>\n",
       "      <td>NaN</td>\n",
       "    </tr>\n",
       "    <tr>\n",
       "      <th>8</th>\n",
       "      <td>NaN</td>\n",
       "      <td>NaN</td>\n",
       "    </tr>\n",
       "    <tr>\n",
       "      <th>9</th>\n",
       "      <td>NaN</td>\n",
       "      <td>NaN</td>\n",
       "    </tr>\n",
       "    <tr>\n",
       "      <th>10</th>\n",
       "      <td>NaN</td>\n",
       "      <td>NaN</td>\n",
       "    </tr>\n",
       "    <tr>\n",
       "      <th>11</th>\n",
       "      <td>NaN</td>\n",
       "      <td>NaN</td>\n",
       "    </tr>\n",
       "    <tr>\n",
       "      <th>12</th>\n",
       "      <td>NaN</td>\n",
       "      <td>NaN</td>\n",
       "    </tr>\n",
       "    <tr>\n",
       "      <th>13</th>\n",
       "      <td>NaN</td>\n",
       "      <td>NaN</td>\n",
       "    </tr>\n",
       "    <tr>\n",
       "      <th>14</th>\n",
       "      <td>NaN</td>\n",
       "      <td>NaN</td>\n",
       "    </tr>\n",
       "    <tr>\n",
       "      <th>15</th>\n",
       "      <td>NaN</td>\n",
       "      <td>NaN</td>\n",
       "    </tr>\n",
       "    <tr>\n",
       "      <th>16</th>\n",
       "      <td>NaN</td>\n",
       "      <td>NaN</td>\n",
       "    </tr>\n",
       "  </tbody>\n",
       "</table>\n",
       "</div>"
      ],
      "text/plain": [
       "   lb_stat lb_pvalue\n",
       "1      NaN       NaN\n",
       "2      NaN       NaN\n",
       "3      NaN       NaN\n",
       "4      NaN       NaN\n",
       "5      NaN       NaN\n",
       "6      NaN       NaN\n",
       "7      NaN       NaN\n",
       "8      NaN       NaN\n",
       "9      NaN       NaN\n",
       "10     NaN       NaN\n",
       "11     NaN       NaN\n",
       "12     NaN       NaN\n",
       "13     NaN       NaN\n",
       "14     NaN       NaN\n",
       "15     NaN       NaN\n",
       "16     NaN       NaN"
      ]
     },
     "execution_count": 169,
     "metadata": {},
     "output_type": "execute_result"
    }
   ],
   "source": [
    "# Lung Box test for White Noise\n",
    "# x = rawdata1.to_numpy()\n",
    "df = pd.DataFrame(columns=['lb_stat', 'lb_pvalue'])\n",
    "for i in range(1,17):\n",
    "    ss = sm.stats.acorr_ljungbox(x, lags=[i], return_df=True)\n",
    "    df.loc[i,'lb_stat'] = ss.iloc[0,0]\n",
    "    df.loc[i,'lb_pvalue'] = ss.iloc[0,1]\n",
    "df"
   ]
  },
  {
   "cell_type": "code",
   "execution_count": 174,
   "id": "ef91ade1",
   "metadata": {},
   "outputs": [
    {
     "name": "stdout",
     "output_type": "stream",
     "text": [
      "ADF Statistic: -1.4230190801355458\n",
      "p-value: 0.5711920938966767\n",
      "Critical Values:\n",
      "\t1%: -4.332\n",
      "\t5%: -3.233\n",
      "\t10%: -2.749\n"
     ]
    }
   ],
   "source": [
    "# Lung Box test for Random Walk\n",
    "from statsmodels.tsa.stattools import adfuller\n",
    "\n",
    "results = adfuller(rawdata1)\n",
    "\n",
    "print(f\"ADF Statistic: {results[0]}\")\n",
    "print(f\"p-value: {results[1]}\")\n",
    "print(\"Critical Values:\")\n",
    "for key, value in results[4].items():\n",
    "    print(\"\\t%s: %.3f\" % (key, value))"
   ]
  },
  {
   "cell_type": "code",
   "execution_count": 248,
   "id": "bf237f9b",
   "metadata": {},
   "outputs": [
    {
     "data": {
      "image/png": "[encoded data removed]",
      "text/plain": [
       "<Figure size 640x480 with 4 Axes>"
      ]
     },
     "metadata": {},
     "output_type": "display_data"
    }
   ],
   "source": [
    "from pandas import Series\n",
    "from matplotlib import pyplot\n",
    "from statsmodels.tsa.seasonal import seasonal_decompose\n",
    "result = seasonal_decompose(rawdata1, model='multiplicative', period=1)\n",
    "result.plot()\n",
    "pyplot.show()"
   ]
  },
  {
   "cell_type": "code",
   "execution_count": 179,
   "id": "eacd3452",
   "metadata": {},
   "outputs": [
    {
     "data": {
      "text/html": [
       "<div>\n",
       "<style scoped>\n",
       "    .dataframe tbody tr th:only-of-type {\n",
       "        vertical-align: middle;\n",
       "    }\n",
       "\n",
       "    .dataframe tbody tr th {\n",
       "        vertical-align: top;\n",
       "    }\n",
       "\n",
       "    .dataframe thead th {\n",
       "        text-align: right;\n",
       "    }\n",
       "</style>\n",
       "<table border=\"1\" class=\"dataframe\">\n",
       "  <thead>\n",
       "    <tr style=\"text-align: right;\">\n",
       "      <th></th>\n",
       "      <th>REVENUE_NET</th>\n",
       "    </tr>\n",
       "    <tr>\n",
       "      <th>DATE</th>\n",
       "      <th></th>\n",
       "    </tr>\n",
       "  </thead>\n",
       "  <tbody>\n",
       "    <tr>\n",
       "      <th>2018-01-01</th>\n",
       "      <td>1380400</td>\n",
       "    </tr>\n",
       "    <tr>\n",
       "      <th>2018-02-01</th>\n",
       "      <td>1284500</td>\n",
       "    </tr>\n",
       "    <tr>\n",
       "      <th>2018-03-01</th>\n",
       "      <td>1415300</td>\n",
       "    </tr>\n",
       "    <tr>\n",
       "      <th>2018-04-01</th>\n",
       "      <td>1419800</td>\n",
       "    </tr>\n",
       "    <tr>\n",
       "      <th>2018-05-01</th>\n",
       "      <td>1441400</td>\n",
       "    </tr>\n",
       "    <tr>\n",
       "      <th>2018-06-01</th>\n",
       "      <td>1431300</td>\n",
       "    </tr>\n",
       "    <tr>\n",
       "      <th>2018-07-01</th>\n",
       "      <td>1524000</td>\n",
       "    </tr>\n",
       "    <tr>\n",
       "      <th>2018-08-01</th>\n",
       "      <td>1463500</td>\n",
       "    </tr>\n",
       "    <tr>\n",
       "      <th>2018-09-01</th>\n",
       "      <td>1455700</td>\n",
       "    </tr>\n",
       "    <tr>\n",
       "      <th>2018-10-01</th>\n",
       "      <td>1544900</td>\n",
       "    </tr>\n",
       "    <tr>\n",
       "      <th>2018-11-01</th>\n",
       "      <td>1384700</td>\n",
       "    </tr>\n",
       "    <tr>\n",
       "      <th>2018-12-01</th>\n",
       "      <td>1471800</td>\n",
       "    </tr>\n",
       "    <tr>\n",
       "      <th>2019-01-01</th>\n",
       "      <td>1400400</td>\n",
       "    </tr>\n",
       "    <tr>\n",
       "      <th>2019-02-01</th>\n",
       "      <td>1269500</td>\n",
       "    </tr>\n",
       "    <tr>\n",
       "      <th>2019-03-01</th>\n",
       "      <td>1478100</td>\n",
       "    </tr>\n",
       "    <tr>\n",
       "      <th>2019-04-01</th>\n",
       "      <td>1420900</td>\n",
       "    </tr>\n",
       "    <tr>\n",
       "      <th>2019-05-01</th>\n",
       "      <td>1444000</td>\n",
       "    </tr>\n",
       "    <tr>\n",
       "      <th>2019-06-01</th>\n",
       "      <td>1478300</td>\n",
       "    </tr>\n",
       "  </tbody>\n",
       "</table>\n",
       "</div>"
      ],
      "text/plain": [
       "            REVENUE_NET\n",
       "DATE                   \n",
       "2018-01-01      1380400\n",
       "2018-02-01      1284500\n",
       "2018-03-01      1415300\n",
       "2018-04-01      1419800\n",
       "2018-05-01      1441400\n",
       "2018-06-01      1431300\n",
       "2018-07-01      1524000\n",
       "2018-08-01      1463500\n",
       "2018-09-01      1455700\n",
       "2018-10-01      1544900\n",
       "2018-11-01      1384700\n",
       "2018-12-01      1471800\n",
       "2019-01-01      1400400\n",
       "2019-02-01      1269500\n",
       "2019-03-01      1478100\n",
       "2019-04-01      1420900\n",
       "2019-05-01      1444000\n",
       "2019-06-01      1478300"
      ]
     },
     "execution_count": 179,
     "metadata": {},
     "output_type": "execute_result"
    }
   ],
   "source": [
    "rawdata1"
   ]
  },
  {
   "cell_type": "code",
   "execution_count": 223,
   "id": "7229f169",
   "metadata": {},
   "outputs": [],
   "source": [
    "forecast = rawdata1.copy()"
   ]
  },
  {
   "cell_type": "code",
   "execution_count": 224,
   "id": "c9278e26",
   "metadata": {},
   "outputs": [],
   "source": [
    "forecast = forecast.iloc[6:12]"
   ]
  },
  {
   "cell_type": "code",
   "execution_count": 222,
   "id": "a565f73d",
   "metadata": {},
   "outputs": [],
   "source": [
    "forecast = forecast.reset_index()"
   ]
  },
  {
   "cell_type": "code",
   "execution_count": 204,
   "id": "df5fe347",
   "metadata": {},
   "outputs": [
    {
     "data": {
      "text/html": [
       "<div>\n",
       "<style scoped>\n",
       "    .dataframe tbody tr th:only-of-type {\n",
       "        vertical-align: middle;\n",
       "    }\n",
       "\n",
       "    .dataframe tbody tr th {\n",
       "        vertical-align: top;\n",
       "    }\n",
       "\n",
       "    .dataframe thead th {\n",
       "        text-align: right;\n",
       "    }\n",
       "</style>\n",
       "<table border=\"1\" class=\"dataframe\">\n",
       "  <thead>\n",
       "    <tr style=\"text-align: right;\">\n",
       "      <th></th>\n",
       "      <th>DATE</th>\n",
       "      <th>REVENUE_NET</th>\n",
       "    </tr>\n",
       "  </thead>\n",
       "  <tbody>\n",
       "    <tr>\n",
       "      <th>0</th>\n",
       "      <td>2018-06-01</td>\n",
       "      <td>1431300</td>\n",
       "    </tr>\n",
       "    <tr>\n",
       "      <th>1</th>\n",
       "      <td>2018-07-01</td>\n",
       "      <td>1524000</td>\n",
       "    </tr>\n",
       "    <tr>\n",
       "      <th>2</th>\n",
       "      <td>2018-08-01</td>\n",
       "      <td>1463500</td>\n",
       "    </tr>\n",
       "    <tr>\n",
       "      <th>3</th>\n",
       "      <td>2018-09-01</td>\n",
       "      <td>1455700</td>\n",
       "    </tr>\n",
       "    <tr>\n",
       "      <th>4</th>\n",
       "      <td>2018-10-01</td>\n",
       "      <td>1544900</td>\n",
       "    </tr>\n",
       "    <tr>\n",
       "      <th>5</th>\n",
       "      <td>2018-11-01</td>\n",
       "      <td>1384700</td>\n",
       "    </tr>\n",
       "    <tr>\n",
       "      <th>6</th>\n",
       "      <td>2018-12-01</td>\n",
       "      <td>1471800</td>\n",
       "    </tr>\n",
       "  </tbody>\n",
       "</table>\n",
       "</div>"
      ],
      "text/plain": [
       "        DATE  REVENUE_NET\n",
       "0 2018-06-01      1431300\n",
       "1 2018-07-01      1524000\n",
       "2 2018-08-01      1463500\n",
       "3 2018-09-01      1455700\n",
       "4 2018-10-01      1544900\n",
       "5 2018-11-01      1384700\n",
       "6 2018-12-01      1471800"
      ]
     },
     "execution_count": 204,
     "metadata": {},
     "output_type": "execute_result"
    }
   ],
   "source": [
    "forecast"
   ]
  },
  {
   "cell_type": "code",
   "execution_count": 206,
   "id": "389fc728",
   "metadata": {},
   "outputs": [
    {
     "data": {
      "text/plain": [
       "pandas._libs.tslibs.timestamps.Timestamp"
      ]
     },
     "execution_count": 206,
     "metadata": {},
     "output_type": "execute_result"
    }
   ],
   "source": [
    "type(forecast['DATE'][1])"
   ]
  },
  {
   "cell_type": "code",
   "execution_count": 236,
   "id": "df84e412",
   "metadata": {},
   "outputs": [],
   "source": [
    "z = pd.date_range(start=\"2018-01\",end=\"2019-12\",freq='MS')"
   ]
  },
  {
   "cell_type": "code",
   "execution_count": 239,
   "id": "e525ae8c",
   "metadata": {},
   "outputs": [],
   "source": [
    "df = pd.DataFrame(columns=['lb_stat'])"
   ]
  },
  {
   "cell_type": "code",
   "execution_count": 240,
   "id": "d18fb674",
   "metadata": {},
   "outputs": [
    {
     "ename": "ValueError",
     "evalue": "Length mismatch: Expected axis has 0 elements, new values have 24 elements",
     "output_type": "error",
     "traceback": [
      "\u001b[1;31m---------------------------------------------------------------------------\u001b[0m",
      "\u001b[1;31mValueError\u001b[0m                                Traceback (most recent call last)",
      "Cell \u001b[1;32mIn[240], line 1\u001b[0m\n\u001b[1;32m----> 1\u001b[0m df\u001b[38;5;241m.\u001b[39mindex \u001b[38;5;241m=\u001b[39m z\n",
      "File \u001b[1;32m~\\AppData\\Roaming\\Python\\Python311\\site-packages\\pandas\\core\\generic.py:6218\u001b[0m, in \u001b[0;36mNDFrame.__setattr__\u001b[1;34m(self, name, value)\u001b[0m\n\u001b[0;32m   6216\u001b[0m \u001b[38;5;28;01mtry\u001b[39;00m:\n\u001b[0;32m   6217\u001b[0m     \u001b[38;5;28mobject\u001b[39m\u001b[38;5;241m.\u001b[39m\u001b[38;5;21m__getattribute__\u001b[39m(\u001b[38;5;28mself\u001b[39m, name)\n\u001b[1;32m-> 6218\u001b[0m     \u001b[38;5;28;01mreturn\u001b[39;00m \u001b[38;5;28mobject\u001b[39m\u001b[38;5;241m.\u001b[39m\u001b[38;5;21m__setattr__\u001b[39m(\u001b[38;5;28mself\u001b[39m, name, value)\n\u001b[0;32m   6219\u001b[0m \u001b[38;5;28;01mexcept\u001b[39;00m \u001b[38;5;167;01mAttributeError\u001b[39;00m:\n\u001b[0;32m   6220\u001b[0m     \u001b[38;5;28;01mpass\u001b[39;00m\n",
      "File \u001b[1;32mproperties.pyx:69\u001b[0m, in \u001b[0;36mpandas._libs.properties.AxisProperty.__set__\u001b[1;34m()\u001b[0m\n",
      "File \u001b[1;32m~\\AppData\\Roaming\\Python\\Python311\\site-packages\\pandas\\core\\generic.py:767\u001b[0m, in \u001b[0;36mNDFrame._set_axis\u001b[1;34m(self, axis, labels)\u001b[0m\n\u001b[0;32m    762\u001b[0m \u001b[38;5;250m\u001b[39m\u001b[38;5;124;03m\"\"\"\u001b[39;00m\n\u001b[0;32m    763\u001b[0m \u001b[38;5;124;03mThis is called from the cython code when we set the `index` attribute\u001b[39;00m\n\u001b[0;32m    764\u001b[0m \u001b[38;5;124;03mdirectly, e.g. `series.index = [1, 2, 3]`.\u001b[39;00m\n\u001b[0;32m    765\u001b[0m \u001b[38;5;124;03m\"\"\"\u001b[39;00m\n\u001b[0;32m    766\u001b[0m labels \u001b[38;5;241m=\u001b[39m ensure_index(labels)\n\u001b[1;32m--> 767\u001b[0m \u001b[38;5;28mself\u001b[39m\u001b[38;5;241m.\u001b[39m_mgr\u001b[38;5;241m.\u001b[39mset_axis(axis, labels)\n\u001b[0;32m    768\u001b[0m \u001b[38;5;28mself\u001b[39m\u001b[38;5;241m.\u001b[39m_clear_item_cache()\n",
      "File \u001b[1;32m~\\AppData\\Roaming\\Python\\Python311\\site-packages\\pandas\\core\\internals\\managers.py:227\u001b[0m, in \u001b[0;36mBaseBlockManager.set_axis\u001b[1;34m(self, axis, new_labels)\u001b[0m\n\u001b[0;32m    225\u001b[0m \u001b[38;5;28;01mdef\u001b[39;00m \u001b[38;5;21mset_axis\u001b[39m(\u001b[38;5;28mself\u001b[39m, axis: AxisInt, new_labels: Index) \u001b[38;5;241m-\u001b[39m\u001b[38;5;241m>\u001b[39m \u001b[38;5;28;01mNone\u001b[39;00m:\n\u001b[0;32m    226\u001b[0m     \u001b[38;5;66;03m# Caller is responsible for ensuring we have an Index object.\u001b[39;00m\n\u001b[1;32m--> 227\u001b[0m     \u001b[38;5;28mself\u001b[39m\u001b[38;5;241m.\u001b[39m_validate_set_axis(axis, new_labels)\n\u001b[0;32m    228\u001b[0m     \u001b[38;5;28mself\u001b[39m\u001b[38;5;241m.\u001b[39maxes[axis] \u001b[38;5;241m=\u001b[39m new_labels\n",
      "File \u001b[1;32m~\\AppData\\Roaming\\Python\\Python311\\site-packages\\pandas\\core\\internals\\base.py:85\u001b[0m, in \u001b[0;36mDataManager._validate_set_axis\u001b[1;34m(self, axis, new_labels)\u001b[0m\n\u001b[0;32m     82\u001b[0m     \u001b[38;5;28;01mpass\u001b[39;00m\n\u001b[0;32m     84\u001b[0m \u001b[38;5;28;01melif\u001b[39;00m new_len \u001b[38;5;241m!=\u001b[39m old_len:\n\u001b[1;32m---> 85\u001b[0m     \u001b[38;5;28;01mraise\u001b[39;00m \u001b[38;5;167;01mValueError\u001b[39;00m(\n\u001b[0;32m     86\u001b[0m         \u001b[38;5;124mf\u001b[39m\u001b[38;5;124m\"\u001b[39m\u001b[38;5;124mLength mismatch: Expected axis has \u001b[39m\u001b[38;5;132;01m{\u001b[39;00mold_len\u001b[38;5;132;01m}\u001b[39;00m\u001b[38;5;124m elements, new \u001b[39m\u001b[38;5;124m\"\u001b[39m\n\u001b[0;32m     87\u001b[0m         \u001b[38;5;124mf\u001b[39m\u001b[38;5;124m\"\u001b[39m\u001b[38;5;124mvalues have \u001b[39m\u001b[38;5;132;01m{\u001b[39;00mnew_len\u001b[38;5;132;01m}\u001b[39;00m\u001b[38;5;124m elements\u001b[39m\u001b[38;5;124m\"\u001b[39m\n\u001b[0;32m     88\u001b[0m     )\n",
      "\u001b[1;31mValueError\u001b[0m: Length mismatch: Expected axis has 0 elements, new values have 24 elements"
     ]
    }
   ],
   "source": [
    "df.index = z"
   ]
  },
  {
   "cell_type": "code",
   "execution_count": 243,
   "id": "2e6a4c25",
   "metadata": {},
   "outputs": [],
   "source": [
    "row, col = 24, 1\n",
    "\n",
    "out = pd.DataFrame.from_records([[None]*col]*row)"
   ]
  },
  {
   "cell_type": "code",
   "execution_count": 245,
   "id": "3a1e43fa",
   "metadata": {},
   "outputs": [],
   "source": [
    "out.index = z"
   ]
  },
  {
   "cell_type": "code",
   "execution_count": 246,
   "id": "34702819",
   "metadata": {},
   "outputs": [
    {
     "data": {
      "text/html": [
       "<div>\n",
       "<style scoped>\n",
       "    .dataframe tbody tr th:only-of-type {\n",
       "        vertical-align: middle;\n",
       "    }\n",
       "\n",
       "    .dataframe tbody tr th {\n",
       "        vertical-align: top;\n",
       "    }\n",
       "\n",
       "    .dataframe thead th {\n",
       "        text-align: right;\n",
       "    }\n",
       "</style>\n",
       "<table border=\"1\" class=\"dataframe\">\n",
       "  <thead>\n",
       "    <tr style=\"text-align: right;\">\n",
       "      <th></th>\n",
       "      <th>0</th>\n",
       "    </tr>\n",
       "  </thead>\n",
       "  <tbody>\n",
       "    <tr>\n",
       "      <th>2018-01-01</th>\n",
       "      <td>None</td>\n",
       "    </tr>\n",
       "    <tr>\n",
       "      <th>2018-02-01</th>\n",
       "      <td>None</td>\n",
       "    </tr>\n",
       "    <tr>\n",
       "      <th>2018-03-01</th>\n",
       "      <td>None</td>\n",
       "    </tr>\n",
       "    <tr>\n",
       "      <th>2018-04-01</th>\n",
       "      <td>None</td>\n",
       "    </tr>\n",
       "    <tr>\n",
       "      <th>2018-05-01</th>\n",
       "      <td>None</td>\n",
       "    </tr>\n",
       "    <tr>\n",
       "      <th>2018-06-01</th>\n",
       "      <td>None</td>\n",
       "    </tr>\n",
       "    <tr>\n",
       "      <th>2018-07-01</th>\n",
       "      <td>None</td>\n",
       "    </tr>\n",
       "    <tr>\n",
       "      <th>2018-08-01</th>\n",
       "      <td>None</td>\n",
       "    </tr>\n",
       "    <tr>\n",
       "      <th>2018-09-01</th>\n",
       "      <td>None</td>\n",
       "    </tr>\n",
       "    <tr>\n",
       "      <th>2018-10-01</th>\n",
       "      <td>None</td>\n",
       "    </tr>\n",
       "    <tr>\n",
       "      <th>2018-11-01</th>\n",
       "      <td>None</td>\n",
       "    </tr>\n",
       "    <tr>\n",
       "      <th>2018-12-01</th>\n",
       "      <td>None</td>\n",
       "    </tr>\n",
       "    <tr>\n",
       "      <th>2019-01-01</th>\n",
       "      <td>None</td>\n",
       "    </tr>\n",
       "    <tr>\n",
       "      <th>2019-02-01</th>\n",
       "      <td>None</td>\n",
       "    </tr>\n",
       "    <tr>\n",
       "      <th>2019-03-01</th>\n",
       "      <td>None</td>\n",
       "    </tr>\n",
       "    <tr>\n",
       "      <th>2019-04-01</th>\n",
       "      <td>None</td>\n",
       "    </tr>\n",
       "    <tr>\n",
       "      <th>2019-05-01</th>\n",
       "      <td>None</td>\n",
       "    </tr>\n",
       "    <tr>\n",
       "      <th>2019-06-01</th>\n",
       "      <td>None</td>\n",
       "    </tr>\n",
       "    <tr>\n",
       "      <th>2019-07-01</th>\n",
       "      <td>None</td>\n",
       "    </tr>\n",
       "    <tr>\n",
       "      <th>2019-08-01</th>\n",
       "      <td>None</td>\n",
       "    </tr>\n",
       "    <tr>\n",
       "      <th>2019-09-01</th>\n",
       "      <td>None</td>\n",
       "    </tr>\n",
       "    <tr>\n",
       "      <th>2019-10-01</th>\n",
       "      <td>None</td>\n",
       "    </tr>\n",
       "    <tr>\n",
       "      <th>2019-11-01</th>\n",
       "      <td>None</td>\n",
       "    </tr>\n",
       "    <tr>\n",
       "      <th>2019-12-01</th>\n",
       "      <td>None</td>\n",
       "    </tr>\n",
       "  </tbody>\n",
       "</table>\n",
       "</div>"
      ],
      "text/plain": [
       "               0\n",
       "2018-01-01  None\n",
       "2018-02-01  None\n",
       "2018-03-01  None\n",
       "2018-04-01  None\n",
       "2018-05-01  None\n",
       "2018-06-01  None\n",
       "2018-07-01  None\n",
       "2018-08-01  None\n",
       "2018-09-01  None\n",
       "2018-10-01  None\n",
       "2018-11-01  None\n",
       "2018-12-01  None\n",
       "2019-01-01  None\n",
       "2019-02-01  None\n",
       "2019-03-01  None\n",
       "2019-04-01  None\n",
       "2019-05-01  None\n",
       "2019-06-01  None\n",
       "2019-07-01  None\n",
       "2019-08-01  None\n",
       "2019-09-01  None\n",
       "2019-10-01  None\n",
       "2019-11-01  None\n",
       "2019-12-01  None"
      ]
     },
     "execution_count": 246,
     "metadata": {},
     "output_type": "execute_result"
    }
   ],
   "source": [
    "out"
   ]
  },
  {
   "cell_type": "code",
   "execution_count": 226,
   "id": "e567e12f",
   "metadata": {},
   "outputs": [],
   "source": [
    "forecast.index = z"
   ]
  },
  {
   "cell_type": "code",
   "execution_count": 227,
   "id": "c1ef0087",
   "metadata": {},
   "outputs": [
    {
     "data": {
      "text/html": [
       "<div>\n",
       "<style scoped>\n",
       "    .dataframe tbody tr th:only-of-type {\n",
       "        vertical-align: middle;\n",
       "    }\n",
       "\n",
       "    .dataframe tbody tr th {\n",
       "        vertical-align: top;\n",
       "    }\n",
       "\n",
       "    .dataframe thead th {\n",
       "        text-align: right;\n",
       "    }\n",
       "</style>\n",
       "<table border=\"1\" class=\"dataframe\">\n",
       "  <thead>\n",
       "    <tr style=\"text-align: right;\">\n",
       "      <th></th>\n",
       "      <th>REVENUE_NET</th>\n",
       "    </tr>\n",
       "  </thead>\n",
       "  <tbody>\n",
       "    <tr>\n",
       "      <th>2019-07-01</th>\n",
       "      <td>1524000</td>\n",
       "    </tr>\n",
       "    <tr>\n",
       "      <th>2019-08-01</th>\n",
       "      <td>1463500</td>\n",
       "    </tr>\n",
       "    <tr>\n",
       "      <th>2019-09-01</th>\n",
       "      <td>1455700</td>\n",
       "    </tr>\n",
       "    <tr>\n",
       "      <th>2019-10-01</th>\n",
       "      <td>1544900</td>\n",
       "    </tr>\n",
       "    <tr>\n",
       "      <th>2019-11-01</th>\n",
       "      <td>1384700</td>\n",
       "    </tr>\n",
       "    <tr>\n",
       "      <th>2019-12-01</th>\n",
       "      <td>1471800</td>\n",
       "    </tr>\n",
       "  </tbody>\n",
       "</table>\n",
       "</div>"
      ],
      "text/plain": [
       "            REVENUE_NET\n",
       "2019-07-01      1524000\n",
       "2019-08-01      1463500\n",
       "2019-09-01      1455700\n",
       "2019-10-01      1544900\n",
       "2019-11-01      1384700\n",
       "2019-12-01      1471800"
      ]
     },
     "execution_count": 227,
     "metadata": {},
     "output_type": "execute_result"
    }
   ],
   "source": [
    "forecast"
   ]
  },
  {
   "cell_type": "code",
   "execution_count": 238,
   "id": "e053482f",
   "metadata": {},
   "outputs": [
    {
     "ename": "AttributeError",
     "evalue": "'DatetimeIndex' object has no attribute 'index'",
     "output_type": "error",
     "traceback": [
      "\u001b[1;31m---------------------------------------------------------------------------\u001b[0m",
      "\u001b[1;31mAttributeError\u001b[0m                            Traceback (most recent call last)",
      "Cell \u001b[1;32mIn[238], line 16\u001b[0m\n\u001b[0;32m      8\u001b[0m ax\u001b[38;5;241m.\u001b[39mplot(rawdata1\u001b[38;5;241m.\u001b[39mindex,rawdata1[\u001b[38;5;124m'\u001b[39m\u001b[38;5;124mREVENUE_NET\u001b[39m\u001b[38;5;124m'\u001b[39m],\n\u001b[0;32m      9\u001b[0m         color \u001b[38;5;241m=\u001b[39m \u001b[38;5;124m'\u001b[39m\u001b[38;5;124mtab:blue\u001b[39m\u001b[38;5;124m'\u001b[39m,\n\u001b[0;32m     10\u001b[0m         linewidth \u001b[38;5;241m=\u001b[39m \u001b[38;5;241m2\u001b[39m,\n\u001b[0;32m     11\u001b[0m         label \u001b[38;5;241m=\u001b[39m \u001b[38;5;124m'\u001b[39m\u001b[38;5;124mLodgingRevenue\u001b[39m\u001b[38;5;124m'\u001b[39m)\n\u001b[0;32m     12\u001b[0m ax\u001b[38;5;241m.\u001b[39mplot(forecast\u001b[38;5;241m.\u001b[39mindex,forecast[\u001b[38;5;124m'\u001b[39m\u001b[38;5;124mREVENUE_NET\u001b[39m\u001b[38;5;124m'\u001b[39m],\n\u001b[0;32m     13\u001b[0m         color \u001b[38;5;241m=\u001b[39m \u001b[38;5;124m'\u001b[39m\u001b[38;5;124mtab:orange\u001b[39m\u001b[38;5;124m'\u001b[39m,\n\u001b[0;32m     14\u001b[0m         linewidth \u001b[38;5;241m=\u001b[39m \u001b[38;5;241m2\u001b[39m,\n\u001b[0;32m     15\u001b[0m         label \u001b[38;5;241m=\u001b[39m \u001b[38;5;124m'\u001b[39m\u001b[38;5;124mLodgingRevenue\u001b[39m\u001b[38;5;124m'\u001b[39m)\n\u001b[1;32m---> 16\u001b[0m ax\u001b[38;5;241m.\u001b[39mset_xticks(ticks\u001b[38;5;241m=\u001b[39mz\u001b[38;5;241m.\u001b[39mindex[::\u001b[38;5;241m3\u001b[39m],\n\u001b[0;32m     17\u001b[0m               labels \u001b[38;5;241m=\u001b[39m rawdata1\u001b[38;5;241m.\u001b[39mindex[::\u001b[38;5;241m3\u001b[39m]\u001b[38;5;241m.\u001b[39mstrftime(\u001b[38;5;124m'\u001b[39m\u001b[38;5;124m%\u001b[39m\u001b[38;5;124mY-\u001b[39m\u001b[38;5;124m%\u001b[39m\u001b[38;5;124mb\u001b[39m\u001b[38;5;124m'\u001b[39m),\n\u001b[0;32m     18\u001b[0m               rotation\u001b[38;5;241m=\u001b[39m\u001b[38;5;241m45\u001b[39m,\n\u001b[0;32m     19\u001b[0m               ha\u001b[38;5;241m=\u001b[39m\u001b[38;5;124m'\u001b[39m\u001b[38;5;124mcenter\u001b[39m\u001b[38;5;124m'\u001b[39m,\n\u001b[0;32m     20\u001b[0m               fontsize \u001b[38;5;241m=\u001b[39m \u001b[38;5;241m11\u001b[39m,\n\u001b[0;32m     21\u001b[0m               minor\u001b[38;5;241m=\u001b[39m\u001b[38;5;28;01mFalse\u001b[39;00m)\n\u001b[0;32m     22\u001b[0m ax\u001b[38;5;241m.\u001b[39myaxis\u001b[38;5;241m.\u001b[39mset_major_formatter(\u001b[38;5;124m\"\u001b[39m\u001b[38;5;124m$\u001b[39m\u001b[38;5;132;01m{x:,.0f}\u001b[39;00m\u001b[38;5;124m\"\u001b[39m)\n\u001b[0;32m     23\u001b[0m plt\u001b[38;5;241m.\u001b[39mshow()\n",
      "\u001b[1;31mAttributeError\u001b[0m: 'DatetimeIndex' object has no attribute 'index'"
     ]
    },
    {
     "data": {
      "image/png": "[encoded data removed]",
      "text/plain": [
       "<Figure size 900x400 with 1 Axes>"
      ]
     },
     "metadata": {},
     "output_type": "display_data"
    }
   ],
   "source": [
    "# producing and plotting the intial series\n",
    "rawdata1 = rawdata1.groupby(['DATE'])['REVENUE_NET'].sum().to_frame()\n",
    "\n",
    "fig = plt.figure(figsize=(9,4)) # creating the figure object\n",
    "ax = fig.add_subplot() # creating the chart (axes?) object\n",
    "ax.set_title('Chart Title',\n",
    "             fontsize = 13) # title for the chart\n",
    "ax.plot(rawdata1.index,rawdata1['REVENUE_NET'],\n",
    "        color = 'tab:blue',\n",
    "        linewidth = 2,\n",
    "        label = 'LodgingRevenue')\n",
    "ax.plot(forecast.index,forecast['REVENUE_NET'],\n",
    "        color = 'tab:orange',\n",
    "        linewidth = 2,\n",
    "        label = 'LodgingRevenue')\n",
    "ax.set_xticks(ticks=z.index[::3],\n",
    "              labels = rawdata1.index[::3].strftime('%Y-%b'),\n",
    "              rotation=45,\n",
    "              ha='center',\n",
    "              fontsize = 11,\n",
    "              minor=False)\n",
    "ax.yaxis.set_major_formatter(\"${x:,.0f}\")\n",
    "plt.show()"
   ]
  },
  {
   "cell_type": "code",
   "execution_count": 235,
   "id": "91b5f9d9",
   "metadata": {},
   "outputs": [
    {
     "ename": "TypeError",
     "evalue": "cannot add DatetimeArray and DatetimeArray",
     "output_type": "error",
     "traceback": [
      "\u001b[1;31m---------------------------------------------------------------------------\u001b[0m",
      "\u001b[1;31mTypeError\u001b[0m                                 Traceback (most recent call last)",
      "Cell \u001b[1;32mIn[235], line 1\u001b[0m\n\u001b[1;32m----> 1\u001b[0m ticks\u001b[38;5;241m=\u001b[39mrawdata1\u001b[38;5;241m.\u001b[39mindex[::\u001b[38;5;241m3\u001b[39m] \u001b[38;5;241m+\u001b[39m forecast\u001b[38;5;241m.\u001b[39mindex[::\u001b[38;5;241m3\u001b[39m]\n",
      "File \u001b[1;32m~\\AppData\\Roaming\\Python\\Python311\\site-packages\\pandas\\core\\ops\\common.py:76\u001b[0m, in \u001b[0;36m_unpack_zerodim_and_defer.<locals>.new_method\u001b[1;34m(self, other)\u001b[0m\n\u001b[0;32m     72\u001b[0m             \u001b[38;5;28;01mreturn\u001b[39;00m \u001b[38;5;28mNotImplemented\u001b[39m\n\u001b[0;32m     74\u001b[0m other \u001b[38;5;241m=\u001b[39m item_from_zerodim(other)\n\u001b[1;32m---> 76\u001b[0m \u001b[38;5;28;01mreturn\u001b[39;00m method(\u001b[38;5;28mself\u001b[39m, other)\n",
      "File \u001b[1;32m~\\AppData\\Roaming\\Python\\Python311\\site-packages\\pandas\\core\\arraylike.py:186\u001b[0m, in \u001b[0;36mOpsMixin.__add__\u001b[1;34m(self, other)\u001b[0m\n\u001b[0;32m     98\u001b[0m \u001b[38;5;129m@unpack_zerodim_and_defer\u001b[39m(\u001b[38;5;124m\"\u001b[39m\u001b[38;5;124m__add__\u001b[39m\u001b[38;5;124m\"\u001b[39m)\n\u001b[0;32m     99\u001b[0m \u001b[38;5;28;01mdef\u001b[39;00m \u001b[38;5;21m__add__\u001b[39m(\u001b[38;5;28mself\u001b[39m, other):\n\u001b[0;32m    100\u001b[0m \u001b[38;5;250m    \u001b[39m\u001b[38;5;124;03m\"\"\"\u001b[39;00m\n\u001b[0;32m    101\u001b[0m \u001b[38;5;124;03m    Get Addition of DataFrame and other, column-wise.\u001b[39;00m\n\u001b[0;32m    102\u001b[0m \n\u001b[1;32m   (...)\u001b[0m\n\u001b[0;32m    184\u001b[0m \u001b[38;5;124;03m    moose     3.0     NaN\u001b[39;00m\n\u001b[0;32m    185\u001b[0m \u001b[38;5;124;03m    \"\"\"\u001b[39;00m\n\u001b[1;32m--> 186\u001b[0m     \u001b[38;5;28;01mreturn\u001b[39;00m \u001b[38;5;28mself\u001b[39m\u001b[38;5;241m.\u001b[39m_arith_method(other, operator\u001b[38;5;241m.\u001b[39madd)\n",
      "File \u001b[1;32m~\\AppData\\Roaming\\Python\\Python311\\site-packages\\pandas\\core\\indexes\\base.py:7158\u001b[0m, in \u001b[0;36mIndex._arith_method\u001b[1;34m(self, other, op)\u001b[0m\n\u001b[0;32m   7148\u001b[0m \u001b[38;5;28;01mif\u001b[39;00m (\n\u001b[0;32m   7149\u001b[0m     \u001b[38;5;28misinstance\u001b[39m(other, Index)\n\u001b[0;32m   7150\u001b[0m     \u001b[38;5;129;01mand\u001b[39;00m is_object_dtype(other\u001b[38;5;241m.\u001b[39mdtype)\n\u001b[1;32m   (...)\u001b[0m\n\u001b[0;32m   7154\u001b[0m     \u001b[38;5;66;03m# a chance to implement ops before we unwrap them.\u001b[39;00m\n\u001b[0;32m   7155\u001b[0m     \u001b[38;5;66;03m# See https://github.com/pandas-dev/pandas/issues/31109\u001b[39;00m\n\u001b[0;32m   7156\u001b[0m     \u001b[38;5;28;01mreturn\u001b[39;00m \u001b[38;5;28mNotImplemented\u001b[39m\n\u001b[1;32m-> 7158\u001b[0m \u001b[38;5;28;01mreturn\u001b[39;00m \u001b[38;5;28msuper\u001b[39m()\u001b[38;5;241m.\u001b[39m_arith_method(other, op)\n",
      "File \u001b[1;32m~\\AppData\\Roaming\\Python\\Python311\\site-packages\\pandas\\core\\base.py:1381\u001b[0m, in \u001b[0;36mIndexOpsMixin._arith_method\u001b[1;34m(self, other, op)\u001b[0m\n\u001b[0;32m   1378\u001b[0m     rvalues \u001b[38;5;241m=\u001b[39m np\u001b[38;5;241m.\u001b[39marange(rvalues\u001b[38;5;241m.\u001b[39mstart, rvalues\u001b[38;5;241m.\u001b[39mstop, rvalues\u001b[38;5;241m.\u001b[39mstep)\n\u001b[0;32m   1380\u001b[0m \u001b[38;5;28;01mwith\u001b[39;00m np\u001b[38;5;241m.\u001b[39merrstate(\u001b[38;5;28mall\u001b[39m\u001b[38;5;241m=\u001b[39m\u001b[38;5;124m\"\u001b[39m\u001b[38;5;124mignore\u001b[39m\u001b[38;5;124m\"\u001b[39m):\n\u001b[1;32m-> 1381\u001b[0m     result \u001b[38;5;241m=\u001b[39m ops\u001b[38;5;241m.\u001b[39marithmetic_op(lvalues, rvalues, op)\n\u001b[0;32m   1383\u001b[0m \u001b[38;5;28;01mreturn\u001b[39;00m \u001b[38;5;28mself\u001b[39m\u001b[38;5;241m.\u001b[39m_construct_result(result, name\u001b[38;5;241m=\u001b[39mres_name)\n",
      "File \u001b[1;32m~\\AppData\\Roaming\\Python\\Python311\\site-packages\\pandas\\core\\ops\\array_ops.py:275\u001b[0m, in \u001b[0;36marithmetic_op\u001b[1;34m(left, right, op)\u001b[0m\n\u001b[0;32m    262\u001b[0m \u001b[38;5;66;03m# NB: We assume that extract_array and ensure_wrapped_if_datetimelike\u001b[39;00m\n\u001b[0;32m    263\u001b[0m \u001b[38;5;66;03m#  have already been called on `left` and `right`,\u001b[39;00m\n\u001b[0;32m    264\u001b[0m \u001b[38;5;66;03m#  and `maybe_prepare_scalar_for_op` has already been called on `right`\u001b[39;00m\n\u001b[0;32m    265\u001b[0m \u001b[38;5;66;03m# We need to special-case datetime64/timedelta64 dtypes (e.g. because numpy\u001b[39;00m\n\u001b[0;32m    266\u001b[0m \u001b[38;5;66;03m# casts integer dtypes to timedelta64 when operating with timedelta64 - GH#22390)\u001b[39;00m\n\u001b[0;32m    268\u001b[0m \u001b[38;5;28;01mif\u001b[39;00m (\n\u001b[0;32m    269\u001b[0m     should_extension_dispatch(left, right)\n\u001b[0;32m    270\u001b[0m     \u001b[38;5;129;01mor\u001b[39;00m \u001b[38;5;28misinstance\u001b[39m(right, (Timedelta, BaseOffset, Timestamp))\n\u001b[1;32m   (...)\u001b[0m\n\u001b[0;32m    273\u001b[0m     \u001b[38;5;66;03m# Timedelta/Timestamp and other custom scalars are included in the check\u001b[39;00m\n\u001b[0;32m    274\u001b[0m     \u001b[38;5;66;03m# because numexpr will fail on it, see GH#31457\u001b[39;00m\n\u001b[1;32m--> 275\u001b[0m     res_values \u001b[38;5;241m=\u001b[39m op(left, right)\n\u001b[0;32m    276\u001b[0m \u001b[38;5;28;01melse\u001b[39;00m:\n\u001b[0;32m    277\u001b[0m     \u001b[38;5;66;03m# TODO we should handle EAs consistently and move this check before the if/else\u001b[39;00m\n\u001b[0;32m    278\u001b[0m     \u001b[38;5;66;03m# (https://github.com/pandas-dev/pandas/issues/41165)\u001b[39;00m\n\u001b[0;32m    279\u001b[0m     \u001b[38;5;66;03m# error: Argument 2 to \"_bool_arith_check\" has incompatible type\u001b[39;00m\n\u001b[0;32m    280\u001b[0m     \u001b[38;5;66;03m# \"Union[ExtensionArray, ndarray[Any, Any]]\"; expected \"ndarray[Any, Any]\"\u001b[39;00m\n\u001b[0;32m    281\u001b[0m     _bool_arith_check(op, left, right)  \u001b[38;5;66;03m# type: ignore[arg-type]\u001b[39;00m\n",
      "File \u001b[1;32m~\\AppData\\Roaming\\Python\\Python311\\site-packages\\pandas\\core\\ops\\common.py:76\u001b[0m, in \u001b[0;36m_unpack_zerodim_and_defer.<locals>.new_method\u001b[1;34m(self, other)\u001b[0m\n\u001b[0;32m     72\u001b[0m             \u001b[38;5;28;01mreturn\u001b[39;00m \u001b[38;5;28mNotImplemented\u001b[39m\n\u001b[0;32m     74\u001b[0m other \u001b[38;5;241m=\u001b[39m item_from_zerodim(other)\n\u001b[1;32m---> 76\u001b[0m \u001b[38;5;28;01mreturn\u001b[39;00m method(\u001b[38;5;28mself\u001b[39m, other)\n",
      "File \u001b[1;32m~\\AppData\\Roaming\\Python\\Python311\\site-packages\\pandas\\core\\arrays\\datetimelike.py:1364\u001b[0m, in \u001b[0;36mDatetimeLikeArrayMixin.__add__\u001b[1;34m(self, other)\u001b[0m\n\u001b[0;32m   1359\u001b[0m     result \u001b[38;5;241m=\u001b[39m \u001b[38;5;28mself\u001b[39m\u001b[38;5;241m.\u001b[39m_addsub_object_array(other, operator\u001b[38;5;241m.\u001b[39madd)\n\u001b[0;32m   1360\u001b[0m \u001b[38;5;28;01melif\u001b[39;00m lib\u001b[38;5;241m.\u001b[39mis_np_dtype(other_dtype, \u001b[38;5;124m\"\u001b[39m\u001b[38;5;124mM\u001b[39m\u001b[38;5;124m\"\u001b[39m) \u001b[38;5;129;01mor\u001b[39;00m \u001b[38;5;28misinstance\u001b[39m(\n\u001b[0;32m   1361\u001b[0m     other_dtype, DatetimeTZDtype\n\u001b[0;32m   1362\u001b[0m ):\n\u001b[0;32m   1363\u001b[0m     \u001b[38;5;66;03m# DatetimeIndex, ndarray[datetime64]\u001b[39;00m\n\u001b[1;32m-> 1364\u001b[0m     \u001b[38;5;28;01mreturn\u001b[39;00m \u001b[38;5;28mself\u001b[39m\u001b[38;5;241m.\u001b[39m_add_datetime_arraylike(other)\n\u001b[0;32m   1365\u001b[0m \u001b[38;5;28;01melif\u001b[39;00m is_integer_dtype(other_dtype):\n\u001b[0;32m   1366\u001b[0m     \u001b[38;5;28;01mif\u001b[39;00m \u001b[38;5;129;01mnot\u001b[39;00m \u001b[38;5;28misinstance\u001b[39m(\u001b[38;5;28mself\u001b[39m\u001b[38;5;241m.\u001b[39mdtype, PeriodDtype):\n",
      "File \u001b[1;32m~\\AppData\\Roaming\\Python\\Python311\\site-packages\\pandas\\core\\arrays\\datetimelike.py:1079\u001b[0m, in \u001b[0;36mDatetimeLikeArrayMixin._add_datetime_arraylike\u001b[1;34m(self, other)\u001b[0m\n\u001b[0;32m   1076\u001b[0m \u001b[38;5;129m@final\u001b[39m\n\u001b[0;32m   1077\u001b[0m \u001b[38;5;28;01mdef\u001b[39;00m \u001b[38;5;21m_add_datetime_arraylike\u001b[39m(\u001b[38;5;28mself\u001b[39m, other: DatetimeArray) \u001b[38;5;241m-\u001b[39m\u001b[38;5;241m>\u001b[39m DatetimeArray:\n\u001b[0;32m   1078\u001b[0m     \u001b[38;5;28;01mif\u001b[39;00m \u001b[38;5;129;01mnot\u001b[39;00m lib\u001b[38;5;241m.\u001b[39mis_np_dtype(\u001b[38;5;28mself\u001b[39m\u001b[38;5;241m.\u001b[39mdtype, \u001b[38;5;124m\"\u001b[39m\u001b[38;5;124mm\u001b[39m\u001b[38;5;124m\"\u001b[39m):\n\u001b[1;32m-> 1079\u001b[0m         \u001b[38;5;28;01mraise\u001b[39;00m \u001b[38;5;167;01mTypeError\u001b[39;00m(\n\u001b[0;32m   1080\u001b[0m             \u001b[38;5;124mf\u001b[39m\u001b[38;5;124m\"\u001b[39m\u001b[38;5;124mcannot add \u001b[39m\u001b[38;5;132;01m{\u001b[39;00m\u001b[38;5;28mtype\u001b[39m(\u001b[38;5;28mself\u001b[39m)\u001b[38;5;241m.\u001b[39m\u001b[38;5;18m__name__\u001b[39m\u001b[38;5;132;01m}\u001b[39;00m\u001b[38;5;124m and \u001b[39m\u001b[38;5;132;01m{\u001b[39;00m\u001b[38;5;28mtype\u001b[39m(other)\u001b[38;5;241m.\u001b[39m\u001b[38;5;18m__name__\u001b[39m\u001b[38;5;132;01m}\u001b[39;00m\u001b[38;5;124m\"\u001b[39m\n\u001b[0;32m   1081\u001b[0m         )\n\u001b[0;32m   1083\u001b[0m     \u001b[38;5;66;03m# defer to DatetimeArray.__add__\u001b[39;00m\n\u001b[0;32m   1084\u001b[0m     \u001b[38;5;28;01mreturn\u001b[39;00m other \u001b[38;5;241m+\u001b[39m \u001b[38;5;28mself\u001b[39m\n",
      "\u001b[1;31mTypeError\u001b[0m: cannot add DatetimeArray and DatetimeArray"
     ]
    }
   ],
   "source": [
    "ticks=rawdata1.index[::3] + forecast.index[::3]"
   ]
  },
  {
   "cell_type": "code",
   "execution_count": 233,
   "id": "6c0392a8",
   "metadata": {},
   "outputs": [
    {
     "data": {
      "text/plain": [
       "DatetimeIndex(['2018-01-01', '2018-04-01', '2018-07-01', '2018-10-01',\n",
       "               '2019-01-01', '2019-04-01'],\n",
       "              dtype='datetime64[ns]', name='DATE', freq=None)"
      ]
     },
     "execution_count": 233,
     "metadata": {},
     "output_type": "execute_result"
    }
   ],
   "source": [
    "ticks"
   ]
  },
  {
   "cell_type": "code",
   "execution_count": null,
   "id": "6204e6cd",
   "metadata": {},
   "outputs": [],
   "source": []
  },
  {
   "cell_type": "markdown",
   "id": "4cd7a9d4",
   "metadata": {},
   "source": [
    "# Plotting Data"
   ]
  },
  {
   "cell_type": "code",
   "execution_count": null,
   "id": "afb3a0fb",
   "metadata": {},
   "outputs": [],
   "source": [
    "store = '10'\n",
    "fig = plt.figure(figsize=(7,4)) # creating the figure object\n",
    "ax = fig.add_subplot()\n",
    "fig.suptitle('Store 1: Overall View', # title for the figure\n",
    "              fontsize = 15,\n",
    "              x = 0.1,\n",
    "              y = 1.0)\n",
    "\n",
    "plot_fun1(df_store_list,store,ax)"
   ]
  },
  {
   "cell_type": "code",
   "execution_count": null,
   "id": "bb1a371f",
   "metadata": {},
   "outputs": [],
   "source": [
    "fig, axes = plt.subplots(3,1, figsize=(7.5,7.5),sharex=True)\n",
    "axes = axes.flatten()\n",
    "fig.suptitle('Store 1: Daypart View', # title for the figure\n",
    "              fontsize = 15,\n",
    "              x = 0.1,\n",
    "              y = 1.0)\n",
    "\n",
    "for i,axe in enumerate(axes):\n",
    "    plot_fun1(daypart_list[i],store,axe,plot_num = i,type='dp')"
   ]
  },
  {
   "cell_type": "code",
   "execution_count": null,
   "id": "2ea1608a",
   "metadata": {},
   "outputs": [],
   "source": [
    "df_store_list[0]"
   ]
  },
  {
   "cell_type": "code",
   "execution_count": null,
   "id": "8f88cce5",
   "metadata": {},
   "outputs": [],
   "source": [
    "df_store_list[1]"
   ]
  },
  {
   "cell_type": "code",
   "execution_count": null,
   "id": "bdfc3134",
   "metadata": {},
   "outputs": [],
   "source": [
    "df_store_list[3]"
   ]
  },
  {
   "cell_type": "markdown",
   "id": "5428919f",
   "metadata": {},
   "source": [
    "### Breakfast Level"
   ]
  },
  {
   "cell_type": "code",
   "execution_count": null,
   "id": "285bf1c1",
   "metadata": {},
   "outputs": [],
   "source": [
    "fig, axes = plt.subplots(1,4, figsize=(18, 4))\n",
    "axes = axes.flatten()\n",
    "\n",
    "for i,axe in enumerate(axes):\n",
    "    plot_fun1(df_brkfst_list[i],i,store, axe)"
   ]
  },
  {
   "cell_type": "markdown",
   "id": "6ff9c830",
   "metadata": {},
   "source": [
    "### Lunch Level"
   ]
  },
  {
   "cell_type": "code",
   "execution_count": null,
   "id": "2dc48a8e",
   "metadata": {},
   "outputs": [],
   "source": [
    "fig, axes = plt.subplots(1,4, figsize=(18, 4))\n",
    "axes = axes.flatten()\n",
    "\n",
    "for i,axe in enumerate(axes):\n",
    "    plot_fun1(df_lnch_list[i],i,store, axe)"
   ]
  },
  {
   "cell_type": "markdown",
   "id": "4c3e3963",
   "metadata": {},
   "source": [
    "### Dinner Level"
   ]
  },
  {
   "cell_type": "code",
   "execution_count": null,
   "id": "bb4926b7",
   "metadata": {},
   "outputs": [],
   "source": [
    "fig, axes = plt.subplots(1,4, figsize=(18, 4))\n",
    "axes = axes.flatten()\n",
    "\n",
    "for i,axe in enumerate(axes):\n",
    "    plot_fun1(df_dnr_list[i],i,store, axe)"
   ]
  },
  {
   "cell_type": "markdown",
   "id": "99461b14",
   "metadata": {},
   "source": [
    "### 10 Level"
   ]
  },
  {
   "cell_type": "code",
   "execution_count": null,
   "id": "870064cc",
   "metadata": {},
   "outputs": [],
   "source": [
    "fig, axes = plt.subplots(1,3, figsize=(18, 4))\n",
    "axes = axes.flatten()\n",
    "\n",
    "for i,axe in enumerate(axes):\n",
    "    plot_fun2(df_10_list[i],i,store, axe)"
   ]
  },
  {
   "cell_type": "code",
   "execution_count": null,
   "id": "d88cfd22",
   "metadata": {},
   "outputs": [],
   "source": []
  },
  {
   "cell_type": "code",
   "execution_count": null,
   "id": "93092f0a",
   "metadata": {},
   "outputs": [],
   "source": []
  },
  {
   "cell_type": "code",
   "execution_count": null,
   "id": "d8c47855",
   "metadata": {},
   "outputs": [],
   "source": []
  },
  {
   "cell_type": "code",
   "execution_count": null,
   "id": "92fb0e3e",
   "metadata": {},
   "outputs": [],
   "source": []
  },
  {
   "cell_type": "code",
   "execution_count": null,
   "id": "4d5d8f7c",
   "metadata": {},
   "outputs": [],
   "source": []
  },
  {
   "cell_type": "code",
   "execution_count": null,
   "id": "4df61fe2",
   "metadata": {},
   "outputs": [],
   "source": []
  },
  {
   "cell_type": "code",
   "execution_count": null,
   "id": "012de729",
   "metadata": {},
   "outputs": [],
   "source": []
  },
  {
   "cell_type": "code",
   "execution_count": null,
   "id": "db9df779",
   "metadata": {},
   "outputs": [],
   "source": []
  },
  {
   "cell_type": "code",
   "execution_count": null,
   "id": "2b1ed5e3",
   "metadata": {},
   "outputs": [],
   "source": []
  },
  {
   "cell_type": "code",
   "execution_count": null,
   "id": "df90d6bf",
   "metadata": {},
   "outputs": [],
   "source": []
  },
  {
   "cell_type": "code",
   "execution_count": null,
   "id": "e8f3f4ba",
   "metadata": {},
   "outputs": [],
   "source": []
  },
  {
   "cell_type": "code",
   "execution_count": null,
   "id": "4b180845",
   "metadata": {},
   "outputs": [],
   "source": []
  },
  {
   "cell_type": "code",
   "execution_count": null,
   "id": "097747de",
   "metadata": {},
   "outputs": [],
   "source": []
  }
 ],
 "metadata": {
  "kernelspec": {
   "display_name": "Python 3 (ipykernel)",
   "language": "python",
   "name": "python3"
  },
  "language_info": {
   "codemirror_mode": {
    "name": "ipython",
    "version": 3
   },
   "file_extension": ".py",
   "mimetype": "text/x-python",
   "name": "python",
   "nbconvert_exporter": "python",
   "pygments_lexer": "ipython3",
   "version": "3.11.4"
  },
  "toc": {
   "base_numbering": 1,
   "nav_menu": {},
   "number_sections": true,
   "sideBar": true,
   "skip_h1_title": false,
   "title_cell": "Table of Contents",
   "title_sidebar": "Contents",
   "toc_cell": false,
   "toc_position": {
    "height": "calc(100% - 180px)",
    "left": "10px",
    "top": "150px",
    "width": "447.04px"
   },
   "toc_section_display": true,
   "toc_window_display": true
  }
 },
 "nbformat": 4,
 "nbformat_minor": 5
}
